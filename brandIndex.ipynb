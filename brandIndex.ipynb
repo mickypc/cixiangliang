{
 "cells": [
  {
   "cell_type": "code",
   "execution_count": 8,
   "metadata": {},
   "outputs": [],
   "source": [
    "import os"
   ]
  },
  {
   "cell_type": "code",
   "execution_count": 9,
   "metadata": {},
   "outputs": [],
   "source": [
    "f_path = '/home/yuanfang/word2vec/品牌数据下载'"
   ]
  },
  {
   "cell_type": "code",
   "execution_count": 10,
   "metadata": {},
   "outputs": [],
   "source": [
    "file_list = [name for name in os.listdir(f_path) if not name.startswith(('.'))]"
   ]
  },
  {
   "cell_type": "code",
   "execution_count": 11,
   "metadata": {},
   "outputs": [
    {
     "data": {
      "text/plain": [
       "773"
      ]
     },
     "execution_count": 11,
     "metadata": {},
     "output_type": "execute_result"
    }
   ],
   "source": [
    "len(file_list)"
   ]
  },
  {
   "cell_type": "code",
   "execution_count": 12,
   "metadata": {},
   "outputs": [
    {
     "data": {
      "text/plain": [
       "'奥普.txt'"
      ]
     },
     "execution_count": 12,
     "metadata": {},
     "output_type": "execute_result"
    }
   ],
   "source": [
    "file_list[0]"
   ]
  },
  {
   "cell_type": "code",
   "execution_count": 92,
   "metadata": {},
   "outputs": [],
   "source": [
    "from collections import Counter"
   ]
  },
  {
   "cell_type": "code",
   "execution_count": 7,
   "metadata": {},
   "outputs": [],
   "source": [
    "brand_count = Counter()\n",
    "for fn in file_list:\n",
    "    bn = fn.split('.')[0]\n",
    "    with open(os.path.join(f_path, fn), 'r') as f:\n",
    "        count = 0\n",
    "        for count, line in enumerate(f):\n",
    "            count += 1\n",
    "    brand_count.update({bn: count})"
   ]
  },
  {
   "cell_type": "code",
   "execution_count": 8,
   "metadata": {},
   "outputs": [],
   "source": [
    "import seaborn as sns\n",
    "import matplotlib.pyplot as plt"
   ]
  },
  {
   "cell_type": "code",
   "execution_count": 9,
   "metadata": {},
   "outputs": [],
   "source": [
    "import pandas as pd"
   ]
  },
  {
   "cell_type": "code",
   "execution_count": 10,
   "metadata": {},
   "outputs": [],
   "source": [
    "brands = pd.DataFrame({'count': list(brand_count.values())}, index=list(brand_count.keys()))"
   ]
  },
  {
   "cell_type": "code",
   "execution_count": 11,
   "metadata": {},
   "outputs": [],
   "source": [
    "brands = brands.sort_values(by='count', ascending=False)"
   ]
  },
  {
   "cell_type": "code",
   "execution_count": 12,
   "metadata": {},
   "outputs": [
    {
     "data": {
      "text/html": [
       "<div>\n",
       "<style scoped>\n",
       "    .dataframe tbody tr th:only-of-type {\n",
       "        vertical-align: middle;\n",
       "    }\n",
       "\n",
       "    .dataframe tbody tr th {\n",
       "        vertical-align: top;\n",
       "    }\n",
       "\n",
       "    .dataframe thead th {\n",
       "        text-align: right;\n",
       "    }\n",
       "</style>\n",
       "<table border=\"1\" class=\"dataframe\">\n",
       "  <thead>\n",
       "    <tr style=\"text-align: right;\">\n",
       "      <th></th>\n",
       "      <th>count</th>\n",
       "    </tr>\n",
       "  </thead>\n",
       "  <tbody>\n",
       "    <tr>\n",
       "      <th>华为</th>\n",
       "      <td>776363</td>\n",
       "    </tr>\n",
       "    <tr>\n",
       "      <th>突破</th>\n",
       "      <td>570865</td>\n",
       "    </tr>\n",
       "    <tr>\n",
       "      <th>腾讯</th>\n",
       "      <td>552594</td>\n",
       "    </tr>\n",
       "    <tr>\n",
       "      <th>英雄</th>\n",
       "      <td>522635</td>\n",
       "    </tr>\n",
       "    <tr>\n",
       "      <th>红旗_解放_一汽</th>\n",
       "      <td>509980</td>\n",
       "    </tr>\n",
       "    <tr>\n",
       "      <th>小米</th>\n",
       "      <td>509133</td>\n",
       "    </tr>\n",
       "    <tr>\n",
       "      <th>时尚</th>\n",
       "      <td>478582</td>\n",
       "    </tr>\n",
       "    <tr>\n",
       "      <th>京东</th>\n",
       "      <td>434857</td>\n",
       "    </tr>\n",
       "    <tr>\n",
       "      <th>长安</th>\n",
       "      <td>374524</td>\n",
       "    </tr>\n",
       "    <tr>\n",
       "      <th>美的</th>\n",
       "      <td>337945</td>\n",
       "    </tr>\n",
       "    <tr>\n",
       "      <th>老板</th>\n",
       "      <td>334889</td>\n",
       "    </tr>\n",
       "    <tr>\n",
       "      <th>恒大</th>\n",
       "      <td>280560</td>\n",
       "    </tr>\n",
       "    <tr>\n",
       "      <th>阿里巴巴_淘宝</th>\n",
       "      <td>259200</td>\n",
       "    </tr>\n",
       "    <tr>\n",
       "      <th>百度</th>\n",
       "      <td>259092</td>\n",
       "    </tr>\n",
       "    <tr>\n",
       "      <th>苏宁</th>\n",
       "      <td>246997</td>\n",
       "    </tr>\n",
       "    <tr>\n",
       "      <th>人民日报_环球时报</th>\n",
       "      <td>240084</td>\n",
       "    </tr>\n",
       "    <tr>\n",
       "      <th>吉利</th>\n",
       "      <td>233055</td>\n",
       "    </tr>\n",
       "    <tr>\n",
       "      <th>统一</th>\n",
       "      <td>224688</td>\n",
       "    </tr>\n",
       "    <tr>\n",
       "      <th>支付宝</th>\n",
       "      <td>184505</td>\n",
       "    </tr>\n",
       "    <tr>\n",
       "      <th>比亚迪</th>\n",
       "      <td>170242</td>\n",
       "    </tr>\n",
       "    <tr>\n",
       "      <th>中信</th>\n",
       "      <td>157943</td>\n",
       "    </tr>\n",
       "    <tr>\n",
       "      <th>光明</th>\n",
       "      <td>157501</td>\n",
       "    </tr>\n",
       "    <tr>\n",
       "      <th>凤凰</th>\n",
       "      <td>157109</td>\n",
       "    </tr>\n",
       "    <tr>\n",
       "      <th>上汽</th>\n",
       "      <td>151917</td>\n",
       "    </tr>\n",
       "    <tr>\n",
       "      <th>广汽</th>\n",
       "      <td>143133</td>\n",
       "    </tr>\n",
       "    <tr>\n",
       "      <th>茅台</th>\n",
       "      <td>137124</td>\n",
       "    </tr>\n",
       "    <tr>\n",
       "      <th>万达</th>\n",
       "      <td>134858</td>\n",
       "    </tr>\n",
       "    <tr>\n",
       "      <th>联想</th>\n",
       "      <td>129565</td>\n",
       "    </tr>\n",
       "    <tr>\n",
       "      <th>金山</th>\n",
       "      <td>129027</td>\n",
       "    </tr>\n",
       "    <tr>\n",
       "      <th>万科</th>\n",
       "      <td>116103</td>\n",
       "    </tr>\n",
       "    <tr>\n",
       "      <th>...</th>\n",
       "      <td>...</td>\n",
       "    </tr>\n",
       "    <tr>\n",
       "      <th>南方机械</th>\n",
       "      <td>23</td>\n",
       "    </tr>\n",
       "    <tr>\n",
       "      <th>椰岛鹿龟酒</th>\n",
       "      <td>21</td>\n",
       "    </tr>\n",
       "    <tr>\n",
       "      <th>JOMOO九牧</th>\n",
       "      <td>20</td>\n",
       "    </tr>\n",
       "    <tr>\n",
       "      <th>皇城老妈</th>\n",
       "      <td>20</td>\n",
       "    </tr>\n",
       "    <tr>\n",
       "      <th>强力家具</th>\n",
       "      <td>18</td>\n",
       "    </tr>\n",
       "    <tr>\n",
       "      <th>罗菜</th>\n",
       "      <td>18</td>\n",
       "    </tr>\n",
       "    <tr>\n",
       "      <th>萨米特陶瓷</th>\n",
       "      <td>14</td>\n",
       "    </tr>\n",
       "    <tr>\n",
       "      <th>金海马家居</th>\n",
       "      <td>14</td>\n",
       "    </tr>\n",
       "    <tr>\n",
       "      <th>新福兴玻璃</th>\n",
       "      <td>13</td>\n",
       "    </tr>\n",
       "    <tr>\n",
       "      <th>惠万家陶瓷</th>\n",
       "      <td>12</td>\n",
       "    </tr>\n",
       "    <tr>\n",
       "      <th>容声厨卫</th>\n",
       "      <td>12</td>\n",
       "    </tr>\n",
       "    <tr>\n",
       "      <th>红蜻蜒</th>\n",
       "      <td>12</td>\n",
       "    </tr>\n",
       "    <tr>\n",
       "      <th>碧爱尚</th>\n",
       "      <td>11</td>\n",
       "    </tr>\n",
       "    <tr>\n",
       "      <th>CPPO</th>\n",
       "      <td>10</td>\n",
       "    </tr>\n",
       "    <tr>\n",
       "      <th>汉斯啤酒</th>\n",
       "      <td>10</td>\n",
       "    </tr>\n",
       "    <tr>\n",
       "      <th>晟扬</th>\n",
       "      <td>8</td>\n",
       "    </tr>\n",
       "    <tr>\n",
       "      <th>前程无忧51</th>\n",
       "      <td>7</td>\n",
       "    </tr>\n",
       "    <tr>\n",
       "      <th>宝纶</th>\n",
       "      <td>3</td>\n",
       "    </tr>\n",
       "    <tr>\n",
       "      <th>尚豪美家</th>\n",
       "      <td>2</td>\n",
       "    </tr>\n",
       "    <tr>\n",
       "      <th>唯美L&amp;D陶瓷</th>\n",
       "      <td>2</td>\n",
       "    </tr>\n",
       "    <tr>\n",
       "      <th>中国常柴</th>\n",
       "      <td>2</td>\n",
       "    </tr>\n",
       "    <tr>\n",
       "      <th>格菜斯陶瓷</th>\n",
       "      <td>0</td>\n",
       "    </tr>\n",
       "    <tr>\n",
       "      <th>强力体育</th>\n",
       "      <td>0</td>\n",
       "    </tr>\n",
       "    <tr>\n",
       "      <th>白塔牌</th>\n",
       "      <td>0</td>\n",
       "    </tr>\n",
       "    <tr>\n",
       "      <th>名典大将作磁砖</th>\n",
       "      <td>0</td>\n",
       "    </tr>\n",
       "    <tr>\n",
       "      <th>智多星+</th>\n",
       "      <td>0</td>\n",
       "    </tr>\n",
       "    <tr>\n",
       "      <th>海格HIGER</th>\n",
       "      <td>0</td>\n",
       "    </tr>\n",
       "    <tr>\n",
       "      <th>首都时空</th>\n",
       "      <td>0</td>\n",
       "    </tr>\n",
       "    <tr>\n",
       "      <th>博德BODE</th>\n",
       "      <td>0</td>\n",
       "    </tr>\n",
       "    <tr>\n",
       "      <th>吴博磁砖</th>\n",
       "      <td>0</td>\n",
       "    </tr>\n",
       "  </tbody>\n",
       "</table>\n",
       "<p>773 rows × 1 columns</p>\n",
       "</div>"
      ],
      "text/plain": [
       "            count\n",
       "华为         776363\n",
       "突破         570865\n",
       "腾讯         552594\n",
       "英雄         522635\n",
       "红旗_解放_一汽   509980\n",
       "小米         509133\n",
       "时尚         478582\n",
       "京东         434857\n",
       "长安         374524\n",
       "美的         337945\n",
       "老板         334889\n",
       "恒大         280560\n",
       "阿里巴巴_淘宝    259200\n",
       "百度         259092\n",
       "苏宁         246997\n",
       "人民日报_环球时报  240084\n",
       "吉利         233055\n",
       "统一         224688\n",
       "支付宝        184505\n",
       "比亚迪        170242\n",
       "中信         157943\n",
       "光明         157501\n",
       "凤凰         157109\n",
       "上汽         151917\n",
       "广汽         143133\n",
       "茅台         137124\n",
       "万达         134858\n",
       "联想         129565\n",
       "金山         129027\n",
       "万科         116103\n",
       "...           ...\n",
       "南方机械           23\n",
       "椰岛鹿龟酒          21\n",
       "JOMOO九牧        20\n",
       "皇城老妈           20\n",
       "强力家具           18\n",
       "罗菜             18\n",
       "萨米特陶瓷          14\n",
       "金海马家居          14\n",
       "新福兴玻璃          13\n",
       "惠万家陶瓷          12\n",
       "容声厨卫           12\n",
       "红蜻蜒            12\n",
       "碧爱尚            11\n",
       "CPPO           10\n",
       "汉斯啤酒           10\n",
       "晟扬              8\n",
       "前程无忧51          7\n",
       "宝纶              3\n",
       "尚豪美家            2\n",
       "唯美L&D陶瓷         2\n",
       "中国常柴            2\n",
       "格菜斯陶瓷           0\n",
       "强力体育            0\n",
       "白塔牌             0\n",
       "名典大将作磁砖         0\n",
       "智多星+            0\n",
       "海格HIGER         0\n",
       "首都时空            0\n",
       "博德BODE          0\n",
       "吴博磁砖            0\n",
       "\n",
       "[773 rows x 1 columns]"
      ]
     },
     "execution_count": 12,
     "metadata": {},
     "output_type": "execute_result"
    }
   ],
   "source": [
    "brands"
   ]
  },
  {
   "cell_type": "code",
   "execution_count": 13,
   "metadata": {},
   "outputs": [
    {
     "data": {
      "text/plain": [
       "<matplotlib.axes._subplots.AxesSubplot at 0x7fed1705ca90>"
      ]
     },
     "execution_count": 13,
     "metadata": {},
     "output_type": "execute_result"
    },
    {
     "data": {
      "image/png": "[encoded data removed]",
      "text/plain": [
       "<Figure size 432x288 with 1 Axes>"
      ]
     },
     "metadata": {
      "needs_background": "light"
     },
     "output_type": "display_data"
    }
   ],
   "source": [
    "brands['count'].plot()"
   ]
  },
  {
   "cell_type": "code",
   "execution_count": 14,
   "metadata": {},
   "outputs": [
    {
     "data": {
      "text/html": [
       "<div>\n",
       "<style scoped>\n",
       "    .dataframe tbody tr th:only-of-type {\n",
       "        vertical-align: middle;\n",
       "    }\n",
       "\n",
       "    .dataframe tbody tr th {\n",
       "        vertical-align: top;\n",
       "    }\n",
       "\n",
       "    .dataframe thead th {\n",
       "        text-align: right;\n",
       "    }\n",
       "</style>\n",
       "<table border=\"1\" class=\"dataframe\">\n",
       "  <thead>\n",
       "    <tr style=\"text-align: right;\">\n",
       "      <th></th>\n",
       "      <th>count</th>\n",
       "    </tr>\n",
       "  </thead>\n",
       "  <tbody>\n",
       "    <tr>\n",
       "      <th>count</th>\n",
       "      <td>773.000000</td>\n",
       "    </tr>\n",
       "    <tr>\n",
       "      <th>mean</th>\n",
       "      <td>22062.919793</td>\n",
       "    </tr>\n",
       "    <tr>\n",
       "      <th>std</th>\n",
       "      <td>67292.342274</td>\n",
       "    </tr>\n",
       "    <tr>\n",
       "      <th>min</th>\n",
       "      <td>0.000000</td>\n",
       "    </tr>\n",
       "    <tr>\n",
       "      <th>25%</th>\n",
       "      <td>817.000000</td>\n",
       "    </tr>\n",
       "    <tr>\n",
       "      <th>50%</th>\n",
       "      <td>3784.000000</td>\n",
       "    </tr>\n",
       "    <tr>\n",
       "      <th>75%</th>\n",
       "      <td>13390.000000</td>\n",
       "    </tr>\n",
       "    <tr>\n",
       "      <th>max</th>\n",
       "      <td>776363.000000</td>\n",
       "    </tr>\n",
       "  </tbody>\n",
       "</table>\n",
       "</div>"
      ],
      "text/plain": [
       "               count\n",
       "count     773.000000\n",
       "mean    22062.919793\n",
       "std     67292.342274\n",
       "min         0.000000\n",
       "25%       817.000000\n",
       "50%      3784.000000\n",
       "75%     13390.000000\n",
       "max    776363.000000"
      ]
     },
     "execution_count": 14,
     "metadata": {},
     "output_type": "execute_result"
    }
   ],
   "source": [
    "brands.describe()"
   ]
  },
  {
   "cell_type": "code",
   "execution_count": 15,
   "metadata": {},
   "outputs": [
    {
     "data": {
      "text/plain": [
       "(153, 1)"
      ]
     },
     "execution_count": 15,
     "metadata": {},
     "output_type": "execute_result"
    }
   ],
   "source": [
    "brands[brands['count']<500].shape"
   ]
  },
  {
   "cell_type": "code",
   "execution_count": 16,
   "metadata": {},
   "outputs": [
    {
     "data": {
      "text/html": [
       "<div>\n",
       "<style scoped>\n",
       "    .dataframe tbody tr th:only-of-type {\n",
       "        vertical-align: middle;\n",
       "    }\n",
       "\n",
       "    .dataframe tbody tr th {\n",
       "        vertical-align: top;\n",
       "    }\n",
       "\n",
       "    .dataframe thead th {\n",
       "        text-align: right;\n",
       "    }\n",
       "</style>\n",
       "<table border=\"1\" class=\"dataframe\">\n",
       "  <thead>\n",
       "    <tr style=\"text-align: right;\">\n",
       "      <th></th>\n",
       "      <th>count</th>\n",
       "    </tr>\n",
       "  </thead>\n",
       "  <tbody>\n",
       "    <tr>\n",
       "      <th>庆丰包子铺</th>\n",
       "      <td>493</td>\n",
       "    </tr>\n",
       "    <tr>\n",
       "      <th>金旅客车</th>\n",
       "      <td>491</td>\n",
       "    </tr>\n",
       "    <tr>\n",
       "      <th>王府井百货</th>\n",
       "      <td>483</td>\n",
       "    </tr>\n",
       "    <tr>\n",
       "      <th>广之旅</th>\n",
       "      <td>479</td>\n",
       "    </tr>\n",
       "    <tr>\n",
       "      <th>罗西尼</th>\n",
       "      <td>479</td>\n",
       "    </tr>\n",
       "    <tr>\n",
       "      <th>东鹏瓷砖</th>\n",
       "      <td>472</td>\n",
       "    </tr>\n",
       "    <tr>\n",
       "      <th>美克美家</th>\n",
       "      <td>471</td>\n",
       "    </tr>\n",
       "    <tr>\n",
       "      <th>金象珠宝</th>\n",
       "      <td>470</td>\n",
       "    </tr>\n",
       "    <tr>\n",
       "      <th>东南卫视</th>\n",
       "      <td>457</td>\n",
       "    </tr>\n",
       "    <tr>\n",
       "      <th>圣奥</th>\n",
       "      <td>454</td>\n",
       "    </tr>\n",
       "    <tr>\n",
       "      <th>春秋旅游</th>\n",
       "      <td>449</td>\n",
       "    </tr>\n",
       "    <tr>\n",
       "      <th>雕牌</th>\n",
       "      <td>445</td>\n",
       "    </tr>\n",
       "    <tr>\n",
       "      <th>地奥</th>\n",
       "      <td>440</td>\n",
       "    </tr>\n",
       "    <tr>\n",
       "      <th>柒牌</th>\n",
       "      <td>431</td>\n",
       "    </tr>\n",
       "    <tr>\n",
       "      <th>蚂蜂窝</th>\n",
       "      <td>430</td>\n",
       "    </tr>\n",
       "    <tr>\n",
       "      <th>铁将军</th>\n",
       "      <td>422</td>\n",
       "    </tr>\n",
       "    <tr>\n",
       "      <th>巴德士</th>\n",
       "      <td>421</td>\n",
       "    </tr>\n",
       "    <tr>\n",
       "      <th>上海纺织</th>\n",
       "      <td>415</td>\n",
       "    </tr>\n",
       "    <tr>\n",
       "      <th>新大洲本田</th>\n",
       "      <td>413</td>\n",
       "    </tr>\n",
       "    <tr>\n",
       "      <th>长江传媒</th>\n",
       "      <td>410</td>\n",
       "    </tr>\n",
       "    <tr>\n",
       "      <th>凤凰传媒</th>\n",
       "      <td>406</td>\n",
       "    </tr>\n",
       "    <tr>\n",
       "      <th>长隆欢乐世界</th>\n",
       "      <td>403</td>\n",
       "    </tr>\n",
       "    <tr>\n",
       "      <th>上海牌</th>\n",
       "      <td>399</td>\n",
       "    </tr>\n",
       "    <tr>\n",
       "      <th>穗宝</th>\n",
       "      <td>396</td>\n",
       "    </tr>\n",
       "    <tr>\n",
       "      <th>重庆信托</th>\n",
       "      <td>395</td>\n",
       "    </tr>\n",
       "    <tr>\n",
       "      <th>满记甜品</th>\n",
       "      <td>393</td>\n",
       "    </tr>\n",
       "    <tr>\n",
       "      <th>北极绒</th>\n",
       "      <td>387</td>\n",
       "    </tr>\n",
       "    <tr>\n",
       "      <th>华西都市报</th>\n",
       "      <td>384</td>\n",
       "    </tr>\n",
       "    <tr>\n",
       "      <th>文曲星</th>\n",
       "      <td>384</td>\n",
       "    </tr>\n",
       "    <tr>\n",
       "      <th>格林豪泰</th>\n",
       "      <td>368</td>\n",
       "    </tr>\n",
       "    <tr>\n",
       "      <th>...</th>\n",
       "      <td>...</td>\n",
       "    </tr>\n",
       "    <tr>\n",
       "      <th>南方机械</th>\n",
       "      <td>23</td>\n",
       "    </tr>\n",
       "    <tr>\n",
       "      <th>椰岛鹿龟酒</th>\n",
       "      <td>21</td>\n",
       "    </tr>\n",
       "    <tr>\n",
       "      <th>JOMOO九牧</th>\n",
       "      <td>20</td>\n",
       "    </tr>\n",
       "    <tr>\n",
       "      <th>皇城老妈</th>\n",
       "      <td>20</td>\n",
       "    </tr>\n",
       "    <tr>\n",
       "      <th>强力家具</th>\n",
       "      <td>18</td>\n",
       "    </tr>\n",
       "    <tr>\n",
       "      <th>罗菜</th>\n",
       "      <td>18</td>\n",
       "    </tr>\n",
       "    <tr>\n",
       "      <th>萨米特陶瓷</th>\n",
       "      <td>14</td>\n",
       "    </tr>\n",
       "    <tr>\n",
       "      <th>金海马家居</th>\n",
       "      <td>14</td>\n",
       "    </tr>\n",
       "    <tr>\n",
       "      <th>新福兴玻璃</th>\n",
       "      <td>13</td>\n",
       "    </tr>\n",
       "    <tr>\n",
       "      <th>惠万家陶瓷</th>\n",
       "      <td>12</td>\n",
       "    </tr>\n",
       "    <tr>\n",
       "      <th>容声厨卫</th>\n",
       "      <td>12</td>\n",
       "    </tr>\n",
       "    <tr>\n",
       "      <th>红蜻蜒</th>\n",
       "      <td>12</td>\n",
       "    </tr>\n",
       "    <tr>\n",
       "      <th>碧爱尚</th>\n",
       "      <td>11</td>\n",
       "    </tr>\n",
       "    <tr>\n",
       "      <th>CPPO</th>\n",
       "      <td>10</td>\n",
       "    </tr>\n",
       "    <tr>\n",
       "      <th>汉斯啤酒</th>\n",
       "      <td>10</td>\n",
       "    </tr>\n",
       "    <tr>\n",
       "      <th>晟扬</th>\n",
       "      <td>8</td>\n",
       "    </tr>\n",
       "    <tr>\n",
       "      <th>前程无忧51</th>\n",
       "      <td>7</td>\n",
       "    </tr>\n",
       "    <tr>\n",
       "      <th>宝纶</th>\n",
       "      <td>3</td>\n",
       "    </tr>\n",
       "    <tr>\n",
       "      <th>尚豪美家</th>\n",
       "      <td>2</td>\n",
       "    </tr>\n",
       "    <tr>\n",
       "      <th>唯美L&amp;D陶瓷</th>\n",
       "      <td>2</td>\n",
       "    </tr>\n",
       "    <tr>\n",
       "      <th>中国常柴</th>\n",
       "      <td>2</td>\n",
       "    </tr>\n",
       "    <tr>\n",
       "      <th>格菜斯陶瓷</th>\n",
       "      <td>0</td>\n",
       "    </tr>\n",
       "    <tr>\n",
       "      <th>强力体育</th>\n",
       "      <td>0</td>\n",
       "    </tr>\n",
       "    <tr>\n",
       "      <th>白塔牌</th>\n",
       "      <td>0</td>\n",
       "    </tr>\n",
       "    <tr>\n",
       "      <th>名典大将作磁砖</th>\n",
       "      <td>0</td>\n",
       "    </tr>\n",
       "    <tr>\n",
       "      <th>智多星+</th>\n",
       "      <td>0</td>\n",
       "    </tr>\n",
       "    <tr>\n",
       "      <th>海格HIGER</th>\n",
       "      <td>0</td>\n",
       "    </tr>\n",
       "    <tr>\n",
       "      <th>首都时空</th>\n",
       "      <td>0</td>\n",
       "    </tr>\n",
       "    <tr>\n",
       "      <th>博德BODE</th>\n",
       "      <td>0</td>\n",
       "    </tr>\n",
       "    <tr>\n",
       "      <th>吴博磁砖</th>\n",
       "      <td>0</td>\n",
       "    </tr>\n",
       "  </tbody>\n",
       "</table>\n",
       "<p>153 rows × 1 columns</p>\n",
       "</div>"
      ],
      "text/plain": [
       "         count\n",
       "庆丰包子铺      493\n",
       "金旅客车       491\n",
       "王府井百货      483\n",
       "广之旅        479\n",
       "罗西尼        479\n",
       "东鹏瓷砖       472\n",
       "美克美家       471\n",
       "金象珠宝       470\n",
       "东南卫视       457\n",
       "圣奥         454\n",
       "春秋旅游       449\n",
       "雕牌         445\n",
       "地奥         440\n",
       "柒牌         431\n",
       "蚂蜂窝        430\n",
       "铁将军        422\n",
       "巴德士        421\n",
       "上海纺织       415\n",
       "新大洲本田      413\n",
       "长江传媒       410\n",
       "凤凰传媒       406\n",
       "长隆欢乐世界     403\n",
       "上海牌        399\n",
       "穗宝         396\n",
       "重庆信托       395\n",
       "满记甜品       393\n",
       "北极绒        387\n",
       "华西都市报      384\n",
       "文曲星        384\n",
       "格林豪泰       368\n",
       "...        ...\n",
       "南方机械        23\n",
       "椰岛鹿龟酒       21\n",
       "JOMOO九牧     20\n",
       "皇城老妈        20\n",
       "强力家具        18\n",
       "罗菜          18\n",
       "萨米特陶瓷       14\n",
       "金海马家居       14\n",
       "新福兴玻璃       13\n",
       "惠万家陶瓷       12\n",
       "容声厨卫        12\n",
       "红蜻蜒         12\n",
       "碧爱尚         11\n",
       "CPPO        10\n",
       "汉斯啤酒        10\n",
       "晟扬           8\n",
       "前程无忧51       7\n",
       "宝纶           3\n",
       "尚豪美家         2\n",
       "唯美L&D陶瓷      2\n",
       "中国常柴         2\n",
       "格菜斯陶瓷        0\n",
       "强力体育         0\n",
       "白塔牌          0\n",
       "名典大将作磁砖      0\n",
       "智多星+         0\n",
       "海格HIGER      0\n",
       "首都时空         0\n",
       "博德BODE       0\n",
       "吴博磁砖         0\n",
       "\n",
       "[153 rows x 1 columns]"
      ]
     },
     "execution_count": 16,
     "metadata": {},
     "output_type": "execute_result"
    }
   ],
   "source": [
    "brands[brands['count']<500]"
   ]
  },
  {
   "cell_type": "code",
   "execution_count": 20,
   "metadata": {},
   "outputs": [
    {
     "data": {
      "text/plain": [
       "'/home/anaconda3/bin/python'"
      ]
     },
     "execution_count": 20,
     "metadata": {},
     "output_type": "execute_result"
    }
   ],
   "source": [
    "import sys\n",
    "sys.executable"
   ]
  },
  {
   "cell_type": "code",
   "execution_count": 7,
   "metadata": {},
   "outputs": [],
   "source": [
    "import pkuseg"
   ]
  },
  {
   "cell_type": "code",
   "execution_count": 8,
   "metadata": {},
   "outputs": [],
   "source": [
    "with open(os.path.join(f_path, file_list[0]), 'r') as f:\n",
    "    content_1 = f.readlines()"
   ]
  },
  {
   "cell_type": "code",
   "execution_count": 9,
   "metadata": {},
   "outputs": [
    {
     "data": {
      "text/plain": [
       "4250"
      ]
     },
     "execution_count": 9,
     "metadata": {},
     "output_type": "execute_result"
    }
   ],
   "source": [
    "len(content_1)"
   ]
  },
  {
   "cell_type": "code",
   "execution_count": 10,
   "metadata": {},
   "outputs": [],
   "source": [
    "seg = pkuseg.pkuseg()"
   ]
  },
  {
   "cell_type": "code",
   "execution_count": 12,
   "metadata": {},
   "outputs": [],
   "source": [
    "text = seg.cut(content_1[0])"
   ]
  },
  {
   "cell_type": "code",
   "execution_count": 13,
   "metadata": {},
   "outputs": [
    {
     "data": {
      "text/plain": [
       "list"
      ]
     },
     "execution_count": 13,
     "metadata": {},
     "output_type": "execute_result"
    }
   ],
   "source": [
    "type(text)"
   ]
  },
  {
   "cell_type": "code",
   "execution_count": 43,
   "metadata": {},
   "outputs": [
    {
     "data": {
      "text/plain": [
       "'至诚'"
      ]
     },
     "execution_count": 43,
     "metadata": {},
     "output_type": "execute_result"
    }
   ],
   "source": [
    "text[0]"
   ]
  },
  {
   "cell_type": "code",
   "execution_count": 44,
   "metadata": {},
   "outputs": [
    {
     "data": {
      "text/plain": [
       "True"
      ]
     },
     "execution_count": 44,
     "metadata": {},
     "output_type": "execute_result"
    }
   ],
   "source": [
    "'奥普' in text"
   ]
  },
  {
   "cell_type": "code",
   "execution_count": 14,
   "metadata": {},
   "outputs": [],
   "source": [
    "from nltk.tag import StanfordNERTagger"
   ]
  },
  {
   "cell_type": "code",
   "execution_count": 36,
   "metadata": {},
   "outputs": [],
   "source": [
    "?StanfordNERTagger"
   ]
  },
  {
   "cell_type": "code",
   "execution_count": 22,
   "metadata": {},
   "outputs": [],
   "source": [
    "tagger = StanfordNERTagger(model_filename='edu/stanford/nlp/models/ner/chinese.misc.distsim.crf.ser.gz',\n",
    "                           path_to_jar='stanfordNER/stanford-ner.jar',\n",
    "                           java_options='-mx30000m')"
   ]
  },
  {
   "cell_type": "code",
   "execution_count": 46,
   "metadata": {},
   "outputs": [
    {
     "data": {
      "text/plain": [
       "[('至诚', 'O'),\n",
       " ('财经网', 'O'),\n",
       " ('(', 'O'),\n",
       " ('www.zhicheng.com', 'O'),\n",
       " (')', 'O'),\n",
       " ('6月', 'MISC'),\n",
       " ('11日', 'MISC'),\n",
       " ('讯', 'O'),\n",
       " ('<', 'O'),\n",
       " ('br', 'O'),\n",
       " ('', 'O'),\n",
       " ('><', 'O'),\n",
       " ('br', 'O'),\n",
       " ('', 'O'),\n",
       " ('>', 'O'),\n",
       " ('当今', 'O'),\n",
       " ('社会', 'O'),\n",
       " ('，', 'O'),\n",
       " ('投资', 'O'),\n",
       " ('理财', 'O'),\n",
       " ('是', 'O'),\n",
       " ('非常', 'O'),\n",
       " ('重要', 'O'),\n",
       " ('的', 'O'),\n",
       " ('。', 'O'),\n",
       " ('很多', 'O'),\n",
       " ('人', 'O'),\n",
       " ('都会', 'O'),\n",
       " ('将', 'O'),\n",
       " ('多余', 'O'),\n",
       " ('的', 'O'),\n",
       " ('闲钱', 'O'),\n",
       " ('拿来', 'O'),\n",
       " ('进行', 'O'),\n",
       " ('投资', 'O'),\n",
       " ('，', 'O'),\n",
       " ('但', 'O'),\n",
       " ('有时', 'O'),\n",
       " ('也', 'O'),\n",
       " ('会', 'O'),\n",
       " ('遇到', 'O'),\n",
       " ('资金', 'O'),\n",
       " ('不', 'O'),\n",
       " ('足以', 'O'),\n",
       " ('投资', 'O'),\n",
       " ('某个', 'O'),\n",
       " ('非常', 'O'),\n",
       " ('好的', 'O'),\n",
       " ('项目', 'O'),\n",
       " ('，', 'O'),\n",
       " ('于是', 'O'),\n",
       " ('人们', 'O'),\n",
       " ('想到', 'O'),\n",
       " ('了', 'O'),\n",
       " ('配资', 'O'),\n",
       " ('公司', 'O'),\n",
       " ('来', 'O'),\n",
       " ('获取', 'O'),\n",
       " ('资金', 'O'),\n",
       " ('。', 'O'),\n",
       " ('这种', 'O'),\n",
       " ('方式', 'O'),\n",
       " ('可以', 'O'),\n",
       " ('放大', 'O'),\n",
       " ('人们', 'O'),\n",
       " ('的', 'O'),\n",
       " ('固有', 'O'),\n",
       " ('资金', 'O'),\n",
       " ('，', 'O'),\n",
       " ('以此', 'O'),\n",
       " ('来', 'O'),\n",
       " ('进行', 'O'),\n",
       " ('炒股', 'O'),\n",
       " ('，', 'O'),\n",
       " ('从而', 'O'),\n",
       " ('使', 'O'),\n",
       " ('收益', 'O'),\n",
       " ('放大', 'O'),\n",
       " ('。', 'O'),\n",
       " ('这时候', 'O'),\n",
       " ('，', 'O'),\n",
       " ('选择', 'O'),\n",
       " ('一家', 'O'),\n",
       " ('有', 'O'),\n",
       " ('资质', 'O'),\n",
       " ('、', 'O'),\n",
       " ('有', 'O'),\n",
       " ('底蕴', 'O'),\n",
       " ('、', 'O'),\n",
       " ('有', 'O'),\n",
       " ('实力', 'O'),\n",
       " ('的', 'O'),\n",
       " ('配资', 'O'),\n",
       " ('公司', 'O'),\n",
       " ('就', 'O'),\n",
       " ('显得', 'O'),\n",
       " ('尤为', 'O'),\n",
       " ('关键', 'O'),\n",
       " ('。', 'O'),\n",
       " ('今天', 'MISC'),\n",
       " ('，', 'O'),\n",
       " ('我', 'O'),\n",
       " ('就', 'O'),\n",
       " ('给', 'O'),\n",
       " ('大家', 'O'),\n",
       " ('介绍', 'O'),\n",
       " ('一下', 'O'),\n",
       " ('迪莱奥普', 'PERSON'),\n",
       " ('配资', 'O'),\n",
       " ('平台', 'O'),\n",
       " ('的', 'O'),\n",
       " ('两', 'MISC'),\n",
       " ('大', 'O'),\n",
       " ('独有', 'O'),\n",
       " ('优势', 'O'),\n",
       " ('。', 'O'),\n",
       " ('<', 'O'),\n",
       " ('br', 'O'),\n",
       " ('', 'O'),\n",
       " ('><', 'O'),\n",
       " ('br', 'O'),\n",
       " ('', 'O'),\n",
       " ('>', 'O'),\n",
       " ('一', 'O'),\n",
       " ('、', 'O'),\n",
       " ('手握百亿', 'O'),\n",
       " ('，', 'O'),\n",
       " ('实力', 'O'),\n",
       " ('雄厚', 'O'),\n",
       " ('<', 'O'),\n",
       " ('br', 'O'),\n",
       " ('', 'O'),\n",
       " ('><', 'O'),\n",
       " ('br', 'O'),\n",
       " ('', 'O'),\n",
       " ('>', 'O'),\n",
       " ('有些', 'O'),\n",
       " ('股民', 'O'),\n",
       " ('在', 'O'),\n",
       " ('选择', 'O'),\n",
       " ('配资', 'O'),\n",
       " ('时', 'O'),\n",
       " ('，', 'O'),\n",
       " ('会', 'O'),\n",
       " ('有', 'O'),\n",
       " ('一个', 'O'),\n",
       " ('疑问', 'O'),\n",
       " ('：', 'O'),\n",
       " ('配资', 'O'),\n",
       " ('公司', 'O'),\n",
       " ('所', 'O'),\n",
       " ('配给', 'O'),\n",
       " ('的', 'O'),\n",
       " ('资金', 'O'),\n",
       " ('到底', 'O'),\n",
       " ('是', 'O'),\n",
       " ('哪里', 'O'),\n",
       " ('来', 'O'),\n",
       " ('的', 'O'),\n",
       " ('，', 'O'),\n",
       " ('会', 'O'),\n",
       " ('是', 'O'),\n",
       " ('自有', 'O'),\n",
       " ('资金', 'O'),\n",
       " ('吗', 'O'),\n",
       " ('?', 'O'),\n",
       " ('就', 'O'),\n",
       " ('拿', 'O'),\n",
       " ('我们', 'O'),\n",
       " ('迪莱奥普', 'PERSON'),\n",
       " ('配资', 'O'),\n",
       " ('平台', 'O'),\n",
       " ('来说', 'O'),\n",
       " ('，', 'O'),\n",
       " ('也', 'O'),\n",
       " ('有', 'O'),\n",
       " ('不少', 'O'),\n",
       " ('人', 'O'),\n",
       " ('会', 'O'),\n",
       " ('问', 'O'),\n",
       " ('这样', 'O'),\n",
       " ('的', 'O'),\n",
       " ('问题', 'O'),\n",
       " ('。', 'O'),\n",
       " ('<', 'O'),\n",
       " ('br', 'O'),\n",
       " ('', 'O'),\n",
       " ('><', 'O'),\n",
       " ('br', 'O'),\n",
       " ('', 'O'),\n",
       " ('>', 'O'),\n",
       " ('作为', 'O'),\n",
       " ('一家', 'O'),\n",
       " ('在', 'O'),\n",
       " ('圈内', 'O'),\n",
       " ('有着', 'O'),\n",
       " ('重大', 'O'),\n",
       " ('影响力', 'O'),\n",
       " ('的', 'O'),\n",
       " ('正规', 'O'),\n",
       " ('配资', 'O'),\n",
       " ('平台', 'O'),\n",
       " ('，', 'O'),\n",
       " ('迪莱奥普', 'PERSON'),\n",
       " ('配资', 'O'),\n",
       " ('的', 'O'),\n",
       " ('资金', 'O'),\n",
       " ('来源', 'O'),\n",
       " ('主要', 'O'),\n",
       " ('有', 'O'),\n",
       " ('三', 'MISC'),\n",
       " ('种', 'O'),\n",
       " ('：', 'O'),\n",
       " ('<', 'O'),\n",
       " ('br', 'O'),\n",
       " ('', 'O'),\n",
       " ('><', 'O'),\n",
       " ('br', 'O'),\n",
       " ('', 'O'),\n",
       " ('>', 'O'),\n",
       " ('第一', 'MISC'),\n",
       " ('种', 'O'),\n",
       " ('是', 'O'),\n",
       " ('自有', 'O'),\n",
       " ('资金', 'O'),\n",
       " ('。', 'O'),\n",
       " ('这', 'O'),\n",
       " ('类', 'O'),\n",
       " ('的', 'O'),\n",
       " ('配资', 'O'),\n",
       " ('公司', 'O'),\n",
       " ('在', 'O'),\n",
       " ('所有', 'O'),\n",
       " ('的', 'O'),\n",
       " ('公司', 'O'),\n",
       " ('中都', 'O'),\n",
       " ('是', 'O'),\n",
       " ('很', 'O'),\n",
       " ('少见', 'O'),\n",
       " ('的', 'O'),\n",
       " ('，', 'O'),\n",
       " ('但', 'O'),\n",
       " ('也', 'O'),\n",
       " ('不是', 'O'),\n",
       " ('说', 'O'),\n",
       " ('就', 'O'),\n",
       " ('不', 'O'),\n",
       " ('存在', 'O'),\n",
       " ('。', 'O'),\n",
       " ('因为', 'O'),\n",
       " ('只有', 'O'),\n",
       " ('有', 'O'),\n",
       " ('一定', 'O'),\n",
       " ('规模', 'O'),\n",
       " ('的', 'O'),\n",
       " ('公司', 'O'),\n",
       " ('，', 'O'),\n",
       " ('才', 'O'),\n",
       " ('有', 'O'),\n",
       " ('这样', 'O'),\n",
       " ('的', 'O'),\n",
       " ('实力', 'O'),\n",
       " ('。', 'O'),\n",
       " ('在', 'O'),\n",
       " ('某些', 'O'),\n",
       " ('大', 'O'),\n",
       " ('公司', 'O'),\n",
       " ('，', 'O'),\n",
       " ('股票', 'O'),\n",
       " ('配资', 'O'),\n",
       " ('也', 'O'),\n",
       " ('只是', 'O'),\n",
       " ('其中', 'O'),\n",
       " ('一', 'O'),\n",
       " ('项', 'O'),\n",
       " ('业务', 'O'),\n",
       " ('，', 'O'),\n",
       " ('而且', 'O'),\n",
       " ('这个', 'O'),\n",
       " ('业务', 'O'),\n",
       " ('所', 'O'),\n",
       " ('赚取', 'O'),\n",
       " ('的', 'O'),\n",
       " ('利息', 'O'),\n",
       " ('，', 'O'),\n",
       " ('当然', 'O'),\n",
       " ('有的', 'O'),\n",
       " ('公司', 'O'),\n",
       " ('称为', 'O'),\n",
       " ('管理费', 'O'),\n",
       " ('，', 'O'),\n",
       " ('也', 'O'),\n",
       " ('是', 'O'),\n",
       " ('非常', 'O'),\n",
       " ('可观', 'O'),\n",
       " ('的', 'O'),\n",
       " ('!', 'O'),\n",
       " ('而', 'O'),\n",
       " ('在', 'O'),\n",
       " ('迪莱奥普', 'PERSON'),\n",
       " ('配资', 'O'),\n",
       " ('，', 'O'),\n",
       " ('因为', 'O'),\n",
       " ('我们', 'O'),\n",
       " ('在', 'O'),\n",
       " ('圈内', 'O'),\n",
       " ('多年', 'O'),\n",
       " ('积攒', 'O'),\n",
       " ('的', 'O'),\n",
       " ('人气', 'O'),\n",
       " ('和', 'O'),\n",
       " ('财力', 'O'),\n",
       " ('，', 'O'),\n",
       " ('我们', 'O'),\n",
       " ('有', 'O'),\n",
       " ('充足', 'O'),\n",
       " ('的', 'O'),\n",
       " ('自有', 'O'),\n",
       " ('资金', 'O'),\n",
       " ('供', 'O'),\n",
       " ('投资者', 'O'),\n",
       " ('投资', 'O'),\n",
       " ('。', 'O'),\n",
       " ('<', 'O'),\n",
       " ('br', 'O'),\n",
       " ('', 'O'),\n",
       " ('><', 'O'),\n",
       " ('br', 'O'),\n",
       " ('', 'O'),\n",
       " ('>迪莱奥普', 'O'),\n",
       " ('专业', 'O'),\n",
       " ('股票', 'O'),\n",
       " ('配资', 'O'),\n",
       " ('平台', 'O'),\n",
       " ('1-10', 'MISC'),\n",
       " ('倍', 'MISC'),\n",
       " ('杠杆', 'O'),\n",
       " ('，', 'O'),\n",
       " ('100', 'MISC'),\n",
       " ('元', 'MISC'),\n",
       " ('起配', 'O'),\n",
       " ('，', 'O'),\n",
       " ('利息', 'O'),\n",
       " ('低', 'O'),\n",
       " ('至', 'O'),\n",
       " ('5', 'MISC'),\n",
       " ('厘', 'O'),\n",
       " ('，', 'O'),\n",
       " ('秒', 'O'),\n",
       " ('开户', 'O'),\n",
       " ('<', 'O'),\n",
       " ('br', 'O'),\n",
       " ('', 'O'),\n",
       " ('><', 'O'),\n",
       " ('br', 'O'),\n",
       " ('', 'O'),\n",
       " ('>', 'O'),\n",
       " ('1', 'MISC'),\n",
       " ('、', 'O'),\n",
       " ('按', 'O'),\n",
       " ('天', 'O'),\n",
       " ('配资', 'O'),\n",
       " ('，', 'O'),\n",
       " ('杠杆', 'O'),\n",
       " ('1-10', 'MISC'),\n",
       " ('倍', 'MISC'),\n",
       " ('，', 'O'),\n",
       " ('随', 'O'),\n",
       " ('借', 'O'),\n",
       " ('随', 'O'),\n",
       " ('还', 'O'),\n",
       " ('，', 'O'),\n",
       " ('自在', 'O'),\n",
       " ('投资', 'O'),\n",
       " ('时间', 'O'),\n",
       " ('自由', 'O'),\n",
       " ('，', 'O'),\n",
       " ('超低', 'O'),\n",
       " ('利息', 'O'),\n",
       " ('。', 'O'),\n",
       " ('<', 'O'),\n",
       " ('br', 'O'),\n",
       " ('', 'O'),\n",
       " ('><', 'O'),\n",
       " ('br', 'O'),\n",
       " ('', 'O'),\n",
       " ('>', 'O'),\n",
       " ('2', 'O'),\n",
       " ('、', 'O'),\n",
       " ('按', 'O'),\n",
       " ('月', 'O'),\n",
       " ('配资', 'O'),\n",
       " ('，', 'O'),\n",
       " ('杠杆', 'O'),\n",
       " ('1-10', 'O'),\n",
       " ('倍', 'O'),\n",
       " ('，', 'O'),\n",
       " ('让', 'O'),\n",
       " ('您', 'O'),\n",
       " ('的', 'O'),\n",
       " ('股票', 'O'),\n",
       " ('飞', 'O'),\n",
       " ('起来', 'O'),\n",
       " ('。', 'O'),\n",
       " ('<', 'O'),\n",
       " ('br', 'O'),\n",
       " ('', 'O'),\n",
       " ('><', 'O'),\n",
       " ('br', 'O'),\n",
       " ('', 'O'),\n",
       " ('>', 'O'),\n",
       " ('3', 'MISC'),\n",
       " ('、', 'O'),\n",
       " ('vip', 'O'),\n",
       " ('可', 'O'),\n",
       " ('申请', 'O'),\n",
       " ('高杠杆', 'O'),\n",
       " ('倍数', 'O'),\n",
       " ('，', 'O'),\n",
       " ('名额', 'O'),\n",
       " ('有限', 'O'),\n",
       " ('，', 'O'),\n",
       " ('先到先得', 'O'),\n",
       " ('。', 'O'),\n",
       " ('<', 'O'),\n",
       " ('br', 'O'),\n",
       " ('', 'O'),\n",
       " ('><', 'O'),\n",
       " ('br', 'O'),\n",
       " ('', 'O'),\n",
       " ('>', 'O'),\n",
       " ('搜索', 'O'),\n",
       " ('：', 'O'),\n",
       " ('“', 'O'),\n",
       " ('迪莱奥普', 'PERSON'),\n",
       " ('配资', 'O'),\n",
       " ('平台', 'O'),\n",
       " ('”', 'O'),\n",
       " ('股票', 'O'),\n",
       " ('配资', 'O'),\n",
       " ('。', 'O'),\n",
       " ('<', 'O'),\n",
       " ('br', 'O'),\n",
       " ('', 'O'),\n",
       " ('><', 'O'),\n",
       " ('br', 'O'),\n",
       " ('', 'O'),\n",
       " ('>', 'O'),\n",
       " ('第二', 'MISC'),\n",
       " ('种', 'O'),\n",
       " ('是', 'O'),\n",
       " ('信托', 'O'),\n",
       " ('资金', 'O'),\n",
       " ('，', 'O'),\n",
       " ('这', 'O'),\n",
       " ('类', 'O'),\n",
       " ('资金', 'O'),\n",
       " ('一般', 'O'),\n",
       " ('是', 'O'),\n",
       " ('第三方', 'MISC'),\n",
       " ('理财', 'O'),\n",
       " ('公司', 'O'),\n",
       " ('提供', 'O'),\n",
       " ('，', 'O'),\n",
       " ('通常', 'O'),\n",
       " ('以', 'O'),\n",
       " ('年化', 'O'),\n",
       " ('形式', 'O'),\n",
       " ('提供', 'O'),\n",
       " ('给', 'O'),\n",
       " ('迪莱奥普', 'PERSON'),\n",
       " ('配资', 'O'),\n",
       " ('平台', 'O'),\n",
       " ('。', 'O'),\n",
       " ('这就', 'O'),\n",
       " ('是', 'O'),\n",
       " ('我们', 'O'),\n",
       " ('熟知', 'O'),\n",
       " ('的', 'O'),\n",
       " ('资管', 'O'),\n",
       " ('账户', 'O'),\n",
       " ('。', 'O'),\n",
       " ('也', 'O'),\n",
       " ('是', 'O'),\n",
       " ('大多数', 'O'),\n",
       " ('配资', 'O'),\n",
       " ('公司', 'O'),\n",
       " ('都', 'O'),\n",
       " ('有', 'O'),\n",
       " ('采用', 'O'),\n",
       " ('的', 'O'),\n",
       " ('方式', 'O'),\n",
       " ('。', 'O'),\n",
       " ('<', 'O'),\n",
       " ('br', 'O'),\n",
       " ('', 'O'),\n",
       " ('><', 'O'),\n",
       " ('br', 'O'),\n",
       " ('', 'O'),\n",
       " ('>', 'O'),\n",
       " ('第三', 'MISC'),\n",
       " ('种', 'O'),\n",
       " ('就是', 'O'),\n",
       " ('私募', 'O'),\n",
       " ('资金', 'O'),\n",
       " ('，', 'O'),\n",
       " ('这', 'O'),\n",
       " ('类', 'O'),\n",
       " ('资金', 'O'),\n",
       " ('就是', 'O'),\n",
       " ('直接', 'O'),\n",
       " ('从', 'O'),\n",
       " ('投资者', 'O'),\n",
       " ('手中', 'O'),\n",
       " ('私募', 'O'),\n",
       " ('而', 'O'),\n",
       " ('来', 'O'),\n",
       " ('，', 'O'),\n",
       " ('一般', 'O'),\n",
       " ('也', 'O'),\n",
       " ('是', 'O'),\n",
       " ('以', 'O'),\n",
       " ('年化', 'O'),\n",
       " ('收益', 'O'),\n",
       " ('为', 'O'),\n",
       " ('准收', 'O'),\n",
       " ('的', 'O'),\n",
       " ('一些', 'O'),\n",
       " ('证券', 'O'),\n",
       " ('账户', 'O'),\n",
       " ('，', 'O'),\n",
       " ('供', 'O'),\n",
       " ('客户', 'O'),\n",
       " ('使用', 'O'),\n",
       " ('，', 'O'),\n",
       " ('这', 'O'),\n",
       " ('也', 'O'),\n",
       " ('就是', 'O'),\n",
       " ('我们', 'O'),\n",
       " ('所', 'O'),\n",
       " ('说', 'O'),\n",
       " ('的', 'O'),\n",
       " ('个人', 'O'),\n",
       " ('账户', 'O'),\n",
       " ('来源', 'O'),\n",
       " ('。', 'O'),\n",
       " ('<', 'O'),\n",
       " ('br', 'O'),\n",
       " ('', 'O'),\n",
       " ('><', 'O'),\n",
       " ('br', 'O'),\n",
       " ('', 'O'),\n",
       " ('>', 'O'),\n",
       " ('多样化', 'O'),\n",
       " ('的', 'O'),\n",
       " ('资金', 'O'),\n",
       " ('来源', 'O'),\n",
       " ('，', 'O'),\n",
       " ('让', 'O'),\n",
       " ('迪莱奥普', 'PERSON'),\n",
       " ('配资', 'O'),\n",
       " ('有', 'O'),\n",
       " ('充足', 'O'),\n",
       " ('的', 'O'),\n",
       " ('底气', 'O'),\n",
       " ('，', 'O'),\n",
       " ('做', 'O'),\n",
       " ('行业', 'O'),\n",
       " ('的', 'O'),\n",
       " ('领导者', 'O'),\n",
       " ('。', 'O'),\n",
       " ('当然', 'O'),\n",
       " ('，', 'O'),\n",
       " ('在', 'O'),\n",
       " ('这里', 'O'),\n",
       " ('也', 'O'),\n",
       " ('要', 'O'),\n",
       " ('提醒', 'O'),\n",
       " ('大家', 'O'),\n",
       " ('，', 'O'),\n",
       " ('并非', 'O'),\n",
       " ('所有', 'O'),\n",
       " ('配资', 'O'),\n",
       " ('公司', 'O'),\n",
       " ('都', 'O'),\n",
       " ('有', 'O'),\n",
       " ('正当', 'O'),\n",
       " ('的', 'O'),\n",
       " ('资金', 'O'),\n",
       " ('来源', 'O'),\n",
       " ('。', 'O'),\n",
       " ('例如', 'O'),\n",
       " ('一些', 'O'),\n",
       " ('没有', 'O'),\n",
       " ('资金', 'O'),\n",
       " ('渠道', 'O'),\n",
       " ('的', 'O'),\n",
       " ('小', 'O'),\n",
       " ('公司', 'O'),\n",
       " ('，', 'O'),\n",
       " ('他们', 'O'),\n",
       " ('拿', 'O'),\n",
       " ('资金', 'O'),\n",
       " ('都', 'O'),\n",
       " ('是', 'O'),\n",
       " ('从', 'O'),\n",
       " ('大', 'O'),\n",
       " ('配资', 'O'),\n",
       " ('公司', 'O'),\n",
       " ('获取', 'O'),\n",
       " ('，', 'O'),\n",
       " ('这', 'O'),\n",
       " ('一类', 'O'),\n",
       " ('中介', 'O'),\n",
       " ('公司', 'O'),\n",
       " ('最', 'O'),\n",
       " ('大', 'O'),\n",
       " ('的', 'O'),\n",
       " ('风险', 'O'),\n",
       " ('就是', 'O'),\n",
       " ('其', 'O'),\n",
       " ('资金链', 'O'),\n",
       " ('不是', 'O'),\n",
       " ('很', 'O'),\n",
       " ('稳定', 'O'),\n",
       " ('，', 'O'),\n",
       " ('尤其', 'O'),\n",
       " ('是', 'O'),\n",
       " ('比较', 'O'),\n",
       " ('大', 'O'),\n",
       " ('的', 'O'),\n",
       " ('资金', 'O'),\n",
       " ('，', 'O'),\n",
       " ('所以', 'O'),\n",
       " ('我们', 'O'),\n",
       " ('在', 'O'),\n",
       " ('选择', 'O'),\n",
       " ('配资', 'O'),\n",
       " ('公司', 'O'),\n",
       " ('的', 'O'),\n",
       " ('时候', 'O'),\n",
       " ('，', 'O'),\n",
       " ('一定', 'O'),\n",
       " ('不要', 'O'),\n",
       " ('忘记', 'O'),\n",
       " ('对', 'O'),\n",
       " ('公司', 'O'),\n",
       " ('进行', 'O'),\n",
       " ('一个', 'O'),\n",
       " ('准确', 'O'),\n",
       " ('的', 'O'),\n",
       " ('评估', 'O'),\n",
       " ('。', 'O'),\n",
       " ('<', 'O'),\n",
       " ('br', 'O'),\n",
       " ('', 'O'),\n",
       " ('><', 'O'),\n",
       " ('br', 'O'),\n",
       " ('', 'O'),\n",
       " ('>', 'O'),\n",
       " ('二', 'O'),\n",
       " ('、', 'O'),\n",
       " ('独创', 'O'),\n",
       " ('实盘', 'O'),\n",
       " ('，', 'O'),\n",
       " ('稳操胜券', 'O'),\n",
       " ('<', 'O'),\n",
       " ('br', 'O'),\n",
       " ('', 'O'),\n",
       " ('><', 'O'),\n",
       " ('br', 'O'),\n",
       " ('', 'O'),\n",
       " ('>玩', 'O'),\n",
       " ('股票', 'O'),\n",
       " ('配资', 'O'),\n",
       " ('的', 'O'),\n",
       " ('客户', 'O'),\n",
       " ('，', 'O'),\n",
       " ('必须', 'O'),\n",
       " ('关注', 'O'),\n",
       " ('的', 'O'),\n",
       " ('是', 'O'),\n",
       " ('配资', 'O'),\n",
       " ('公司', 'O'),\n",
       " ('使用', 'O'),\n",
       " ('的', 'O'),\n",
       " ('是', 'O'),\n",
       " ('虚拟盘', 'O'),\n",
       " ('还', 'O'),\n",
       " ('实盘', 'O'),\n",
       " ('。', 'O'),\n",
       " ('<', 'O'),\n",
       " ('br', 'O'),\n",
       " ('', 'O'),\n",
       " ('><', 'O'),\n",
       " ('br', 'O'),\n",
       " ('', 'O'),\n",
       " ('>配', 'O'),\n",
       " ('资界', 'O'),\n",
       " ('存在', 'O'),\n",
       " ('给', 'O'),\n",
       " ('配资', 'O'),\n",
       " ('客户', 'O'),\n",
       " ('提供', 'O'),\n",
       " ('拖拉机', 'O'),\n",
       " ('和', 'O'),\n",
       " ('虚拟盘', 'O'),\n",
       " ('账户', 'O'),\n",
       " ('操作', 'O'),\n",
       " ('的', 'O'),\n",
       " ('现象', 'O'),\n",
       " ('。', 'O'),\n",
       " ('拖拉机', 'O'),\n",
       " ('账户', 'O'),\n",
       " ('是', 'O'),\n",
       " ('指', 'O'),\n",
       " ('一个', 'O'),\n",
       " ('资金', 'O'),\n",
       " ('账户', 'O'),\n",
       " ('挂靠', 'O'),\n",
       " ('多', 'O'),\n",
       " ('个', 'O'),\n",
       " ('交易', 'O'),\n",
       " ('账户', 'O'),\n",
       " ('名', 'O'),\n",
       " ('或', 'O'),\n",
       " ('虚拟', 'O'),\n",
       " ('账户', 'O'),\n",
       " ('名', 'O'),\n",
       " ('，', 'O'),\n",
       " ('数据', 'O'),\n",
       " ('对接', 'O'),\n",
       " ('需要', 'O'),\n",
       " ('借助', 'O'),\n",
       " ('额外', 'O'),\n",
       " ('的', 'O'),\n",
       " ('软件', 'O'),\n",
       " ('插件', 'O'),\n",
       " ('，', 'O'),\n",
       " ('存在', 'O'),\n",
       " ('虚拟', 'O'),\n",
       " ('数据', 'O'),\n",
       " ('风险', 'O'),\n",
       " ('。', 'O'),\n",
       " ('如果', 'O'),\n",
       " ('是', 'O'),\n",
       " ('虚拟盘', 'O'),\n",
       " ('，', 'O'),\n",
       " ('就', 'O'),\n",
       " ('代表', 'O'),\n",
       " ('和', 'O'),\n",
       " ('配资', 'O'),\n",
       " ('平台', 'O'),\n",
       " ('对赌', 'O'),\n",
       " ('。', 'O'),\n",
       " ('意味', 'O'),\n",
       " ('是', 'O'),\n",
       " ('如果', 'O'),\n",
       " ('输', 'O'),\n",
       " ('了', 'O'),\n",
       " ('，', 'O'),\n",
       " ('钱', 'O'),\n",
       " ('都', 'O'),\n",
       " ('到', 'O'),\n",
       " ('了', 'O'),\n",
       " ('平台', 'O'),\n",
       " ('的', 'O'),\n",
       " ('手里', 'O'),\n",
       " ('，', 'O'),\n",
       " ('如果', 'O'),\n",
       " ('赢', 'O'),\n",
       " ('了', 'O'),\n",
       " ('，', 'O'),\n",
       " ('有', 'O'),\n",
       " ('可能', 'O'),\n",
       " ('一', 'O'),\n",
       " ('分', 'O'),\n",
       " ('都', 'O'),\n",
       " ('拿', 'O'),\n",
       " ('不', 'O'),\n",
       " ('了', 'O'),\n",
       " ('，', 'O'),\n",
       " ('因为', 'O'),\n",
       " ('拿', 'O'),\n",
       " ('的', 'O'),\n",
       " ('是', 'O'),\n",
       " ('人家', 'O'),\n",
       " ('平台', 'O'),\n",
       " ('的', 'O'),\n",
       " ('钱', 'O'),\n",
       " ('。', 'O'),\n",
       " ('<', 'O'),\n",
       " ('br', 'O'),\n",
       " ('', 'O'),\n",
       " ('><', 'O'),\n",
       " ('br', 'O'),\n",
       " ('', 'O'),\n",
       " ('>', 'O'),\n",
       " ('而', 'O'),\n",
       " ('股票', 'O'),\n",
       " ('交易', 'O'),\n",
       " ('实盘', 'O'),\n",
       " ('账户', 'O'),\n",
       " ('是', 'O'),\n",
       " ('指', 'O'),\n",
       " ('一个', 'O'),\n",
       " ('资金', 'O'),\n",
       " ('账户', 'O'),\n",
       " ('只能', 'O'),\n",
       " ('对应', 'O'),\n",
       " ('一个', 'O'),\n",
       " ('交易', 'O'),\n",
       " ('账户', 'O'),\n",
       " ('，', 'O'),\n",
       " ('数据', 'O'),\n",
       " ('是', 'O'),\n",
       " ('通过', 'O'),\n",
       " ('软件', 'O'),\n",
       " ('(', 'O'),\n",
       " ('券商', 'O'),\n",
       " ('提供', 'O'),\n",
       " (')', 'O'),\n",
       " ('和', 'O'),\n",
       " ('交易所', 'O'),\n",
       " ('对接', 'O'),\n",
       " ('，', 'O'),\n",
       " ('不', 'O'),\n",
       " ('存在', 'O'),\n",
       " ('虚拟', 'O'),\n",
       " ('数据', 'O'),\n",
       " ('的', 'O'),\n",
       " ('风险', 'O'),\n",
       " ('。', 'O'),\n",
       " ('代表', 'O'),\n",
       " ('是', 'O'),\n",
       " ('真实', 'O'),\n",
       " ('的', 'O'),\n",
       " ('资金', 'O'),\n",
       " ('在', 'O'),\n",
       " ('券商', 'O'),\n",
       " ('内部', 'O'),\n",
       " ('活动', 'O'),\n",
       " ('，', 'O'),\n",
       " ('这', 'O'),\n",
       " ('也', 'O'),\n",
       " ('侧面', 'O'),\n",
       " ('反映', 'O'),\n",
       " ('了', 'O'),\n",
       " ('资金', 'O'),\n",
       " ('的', 'O'),\n",
       " ('安全性', 'O'),\n",
       " ('，', 'O'),\n",
       " ('因为', 'O'),\n",
       " ('公司', 'O'),\n",
       " ('赚', 'O'),\n",
       " ('的', 'O'),\n",
       " ('钱', 'O'),\n",
       " ('全都', 'O'),\n",
       " ('来自于', 'O'),\n",
       " ('客户', 'O'),\n",
       " ('的', 'O'),\n",
       " ('利息', 'O'),\n",
       " ('，', 'O'),\n",
       " ('不', 'O'),\n",
       " ('会', 'O'),\n",
       " ('去', 'O'),\n",
       " ('打', 'O'),\n",
       " ('客户', 'O'),\n",
       " ('资金', 'O'),\n",
       " ('的', 'O'),\n",
       " ('歪', 'O'),\n",
       " ('主意', 'O'),\n",
       " ('。', 'O'),\n",
       " ('当然', 'O'),\n",
       " ('，', 'O'),\n",
       " ('实盘', 'O'),\n",
       " ('账号', 'O'),\n",
       " ('是', 'O'),\n",
       " ('真实', 'O'),\n",
       " ('操作', 'O'),\n",
       " ('，', 'O'),\n",
       " ('必须', 'O'),\n",
       " ('使用', 'O'),\n",
       " ('现金', 'O'),\n",
       " ('。', 'O'),\n",
       " ('赚', 'O'),\n",
       " ('的', 'O'),\n",
       " ('钱', 'O'),\n",
       " ('，', 'O'),\n",
       " ('是', 'O'),\n",
       " ('真真实实', 'O'),\n",
       " ('的', 'O'),\n",
       " ('，', 'O'),\n",
       " ('亏', 'O'),\n",
       " ('的', 'O'),\n",
       " ('钱', 'O'),\n",
       " ('也', 'O'),\n",
       " ('是', 'O'),\n",
       " ('真真实实', 'O'),\n",
       " ('的', 'O'),\n",
       " ('。', 'O'),\n",
       " ('<', 'O'),\n",
       " ('br', 'O'),\n",
       " ('', 'O'),\n",
       " ('><', 'O'),\n",
       " ('br', 'O'),\n",
       " ('', 'O'),\n",
       " ('>迪莱奥普', 'O'),\n",
       " ('配资', 'O'),\n",
       " ('，', 'O'),\n",
       " ('作为', 'O'),\n",
       " ('行业', 'O'),\n",
       " ('领导者', 'O'),\n",
       " ('，', 'O'),\n",
       " ('自然', 'O'),\n",
       " ('是', 'O'),\n",
       " ('使用', 'O'),\n",
       " ('实盘', 'O'),\n",
       " ('，', 'O'),\n",
       " ('为', 'O'),\n",
       " ('客人', 'O'),\n",
       " ('降低', 'O'),\n",
       " ('风险', 'O'),\n",
       " ('，', 'O'),\n",
       " ('真真切切', 'O'),\n",
       " ('为', 'O'),\n",
       " ('客人', 'O'),\n",
       " ('谋', 'O'),\n",
       " ('福利', 'O'),\n",
       " ('。', 'O'),\n",
       " ('<', 'O'),\n",
       " ('br', 'O'),\n",
       " ('', 'O'),\n",
       " ('><', 'O'),\n",
       " ('br', 'O'),\n",
       " ('', 'O'),\n",
       " ('>', 'O'),\n",
       " ('一个', 'O'),\n",
       " ('配资', 'O'),\n",
       " ('平台', 'O'),\n",
       " ('是否', 'O'),\n",
       " ('值得', 'O'),\n",
       " ('投资者', 'O'),\n",
       " ('去', 'O'),\n",
       " ('信赖', 'O'),\n",
       " ('，', 'O'),\n",
       " ('那么', 'O'),\n",
       " ('配资', 'O'),\n",
       " ('平台', 'O'),\n",
       " ('就', 'O'),\n",
       " ('应该', 'O'),\n",
       " ('拿', 'O'),\n",
       " ('出让', 'O'),\n",
       " ('投资者', 'O'),\n",
       " ('信赖', 'O'),\n",
       " ('的', 'O'),\n",
       " ('依据', 'O'),\n",
       " ('出来', 'O'),\n",
       " ('。', 'O'),\n",
       " ('迪莱奥普', 'PERSON'),\n",
       " ('配资', 'O'),\n",
       " ('，', 'O'),\n",
       " ('手', 'O'),\n",
       " ('握', 'O'),\n",
       " ('百亿', 'MISC'),\n",
       " ('为', 'O'),\n",
       " ('您', 'O'),\n",
       " ('解决', 'O'),\n",
       " ('资金', 'O'),\n",
       " ('问题', 'O'),\n",
       " ('，', 'O'),\n",
       " ('独创', 'O'),\n",
       " ('实盘', 'O'),\n",
       " ('为', 'O'),\n",
       " ('您', 'O'),\n",
       " ('保驾护航', 'O'),\n",
       " ('。', 'O'),\n",
       " ('来迪莱', 'ORGANIZATION'),\n",
       " ('奥普', 'ORGANIZATION'),\n",
       " ('配资', 'O'),\n",
       " ('，', 'O'),\n",
       " ('活出', 'O'),\n",
       " ('你', 'O'),\n",
       " ('的', 'O'),\n",
       " ('伟大', 'O'),\n",
       " ('!', 'O')]"
      ]
     },
     "execution_count": 46,
     "metadata": {},
     "output_type": "execute_result"
    }
   ],
   "source": [
    "tagger.tag(text)"
   ]
  },
  {
   "cell_type": "code",
   "execution_count": 53,
   "metadata": {},
   "outputs": [],
   "source": [
    "tc = []\n",
    "fc = []\n",
    "for c in content_1:\n",
    "    if '家居' in c:\n",
    "        tc.append(c)\n",
    "    else:\n",
    "        fc.append(c)"
   ]
  },
  {
   "cell_type": "code",
   "execution_count": null,
   "metadata": {},
   "outputs": [],
   "source": [
    "tc[1]"
   ]
  },
  {
   "cell_type": "code",
   "execution_count": 57,
   "metadata": {},
   "outputs": [
    {
     "data": {
      "text/plain": [
       "'目前119元，使用5元券，最终可以做到114元。入手好价，持平月初，5元也是蛮大的优惠了，有需求的朋友可以上了。\\n'"
      ]
     },
     "execution_count": 57,
     "metadata": {},
     "output_type": "execute_result"
    }
   ],
   "source": [
    "fc[200]"
   ]
  },
  {
   "cell_type": "code",
   "execution_count": 16,
   "metadata": {},
   "outputs": [],
   "source": [
    "import time"
   ]
  },
  {
   "cell_type": "code",
   "execution_count": 17,
   "metadata": {},
   "outputs": [
    {
     "data": {
      "text/plain": [
       "1560943017.0073767"
      ]
     },
     "execution_count": 17,
     "metadata": {},
     "output_type": "execute_result"
    }
   ],
   "source": [
    "time.time()"
   ]
  },
  {
   "cell_type": "code",
   "execution_count": 13,
   "metadata": {},
   "outputs": [],
   "source": [
    "import re"
   ]
  },
  {
   "cell_type": "code",
   "execution_count": 14,
   "metadata": {},
   "outputs": [],
   "source": [
    "def remove_html(s):\n",
    "    re_b = re.compile('<brs*?/?>')\n",
    "    re_h = re.compile('</?w+[^>]*>')\n",
    "    return re_b.sub('', re_h.sub('', s))"
   ]
  },
  {
   "cell_type": "code",
   "execution_count": 20,
   "metadata": {},
   "outputs": [],
   "source": [
    "ap = '\\n'.join(content_1)"
   ]
  },
  {
   "cell_type": "code",
   "execution_count": 21,
   "metadata": {},
   "outputs": [
    {
     "name": "stdout",
     "output_type": "stream",
     "text": [
      "157.69779896736145\n"
     ]
    }
   ],
   "source": [
    "t1 = time.time()\n",
    "text = seg.cut(ap)\n",
    "t2 = time.time()\n",
    "print(t2-t1)"
   ]
  },
  {
   "cell_type": "code",
   "execution_count": 23,
   "metadata": {},
   "outputs": [
    {
     "name": "stdout",
     "output_type": "stream",
     "text": [
      "-157.69779896736145\n"
     ]
    }
   ],
   "source": [
    "enlist = tagger.tag(text)\n",
    "t3 = time.time()\n",
    "print(t3-t2)"
   ]
  },
  {
   "cell_type": "code",
   "execution_count": 24,
   "metadata": {},
   "outputs": [
    {
     "name": "stdout",
     "output_type": "stream",
     "text": [
      "265.0786325931549\n"
     ]
    }
   ],
   "source": [
    "print(t3-t2)"
   ]
  },
  {
   "cell_type": "code",
   "execution_count": 25,
   "metadata": {},
   "outputs": [
    {
     "data": {
      "text/plain": [
       "3060788"
      ]
     },
     "execution_count": 25,
     "metadata": {},
     "output_type": "execute_result"
    }
   ],
   "source": [
    "len(enlist)"
   ]
  },
  {
   "cell_type": "code",
   "execution_count": 33,
   "metadata": {},
   "outputs": [],
   "source": [
    "word_dict = {}\n",
    "for w,t in enlist:\n",
    "    if t != 'O':\n",
    "        word_dict.setdefault(t, []).append(w)"
   ]
  },
  {
   "cell_type": "code",
   "execution_count": 36,
   "metadata": {},
   "outputs": [
    {
     "data": {
      "text/plain": [
       "dict_keys(['MISC', 'PERSON', 'ORGANIZATION', 'GPE', 'FACILITY', 'DEMONYM', 'LOCATION'])"
      ]
     },
     "execution_count": 36,
     "metadata": {},
     "output_type": "execute_result"
    }
   ],
   "source": [
    "word_dict.keys()"
   ]
  },
  {
   "cell_type": "code",
   "execution_count": 37,
   "metadata": {},
   "outputs": [
    {
     "data": {
      "text/plain": [
       "{'',\n",
       " '电投',\n",
       " '电脑',\n",
       " '背森',\n",
       " '微晶',\n",
       " '材料',\n",
       " 'TMT',\n",
       " 'SAMSON',\n",
       " '2019-032',\n",
       " '无限',\n",
       " '智装',\n",
       " '照明灯',\n",
       " '盛虹',\n",
       " '东土',\n",
       " '生产商',\n",
       " '奥普智爱',\n",
       " '专业',\n",
       " '奥普皮雕',\n",
       " 'SOUND',\n",
       " '英特尔',\n",
       " '麦克玛视',\n",
       " '42.65%',\n",
       " '盈方',\n",
       " '>华',\n",
       " 'SHIHLIN',\n",
       " '防潮',\n",
       " '普好',\n",
       " '华宝',\n",
       " 'Reisen',\n",
       " '斯坦福',\n",
       " '通讯',\n",
       " '菌集',\n",
       " '嘉寓',\n",
       " '德林',\n",
       " '室内',\n",
       " '交通台',\n",
       " '卫浴',\n",
       " '师傅',\n",
       " '阳明',\n",
       " '中团网',\n",
       " '华龙网',\n",
       " '交付',\n",
       " '普特',\n",
       " '网站',\n",
       " '国道',\n",
       " '耶鲁',\n",
       " '参数',\n",
       " '宇航',\n",
       " '进球迪',\n",
       " '2019-010',\n",
       " '威盛',\n",
       " '机电',\n",
       " '推进',\n",
       " '2018-045',\n",
       " '攀钢',\n",
       " '郑雨林',\n",
       " '公共',\n",
       " '奥普美学',\n",
       " '联华',\n",
       " '韦伯',\n",
       " '空调',\n",
       " '中卡',\n",
       " '2018-040',\n",
       " '银行',\n",
       " '奥普机',\n",
       " '妇幼',\n",
       " '动力网',\n",
       " '论坛',\n",
       " '霸X',\n",
       " '集美组',\n",
       " '司',\n",
       " '人工',\n",
       " '福元',\n",
       " '产权',\n",
       " '瑞典队',\n",
       " '届',\n",
       " '青年队',\n",
       " '店铺',\n",
       " '\\x06\\x08',\n",
       " 'VLAN',\n",
       " '竹中',\n",
       " '总装备部',\n",
       " '微型',\n",
       " '国锦赛',\n",
       " '玻切机',\n",
       " 'AppleCard',\n",
       " '29-尼扎木丁',\n",
       " '高新科技',\n",
       " '秦',\n",
       " '会议',\n",
       " 'headscmhrv',\n",
       " '11-朱',\n",
       " '漂烫线',\n",
       " '通威',\n",
       " 'Cattelan',\n",
       " '东芝',\n",
       " '控制',\n",
       " '重庆市',\n",
       " '易',\n",
       " '审计',\n",
       " '肾脏病',\n",
       " 'Village',\n",
       " '监事会',\n",
       " '天花板',\n",
       " '安庆',\n",
       " '空军',\n",
       " '万',\n",
       " '高锐',\n",
       " '16:33森特',\n",
       " 'MAX',\n",
       " '星巴克',\n",
       " '电汽',\n",
       " '意华',\n",
       " '巴黎',\n",
       " '国度',\n",
       " '时哥',\n",
       " '驻',\n",
       " '南锣鼓巷',\n",
       " '太阳能',\n",
       " 'MODICON',\n",
       " '亚泰队',\n",
       " '伊利诺伊',\n",
       " '能源报',\n",
       " '载货车',\n",
       " '大三',\n",
       " '西霸费斯托',\n",
       " '健身',\n",
       " '世联',\n",
       " '1-2',\n",
       " '智诚',\n",
       " '乐队',\n",
       " '四川',\n",
       " 'Abrams',\n",
       " '预防',\n",
       " '时报e',\n",
       " '遇见',\n",
       " '华东',\n",
       " '普出',\n",
       " '教科文',\n",
       " '时报',\n",
       " '人民',\n",
       " '景泰\\x07',\n",
       " '加盟商',\n",
       " '农业',\n",
       " 'SPL',\n",
       " '西汉姆',\n",
       " '荣事达',\n",
       " '华德尼奥',\n",
       " '普厦门',\n",
       " '精神',\n",
       " '绍峰',\n",
       " '摩登',\n",
       " '浴霸',\n",
       " '婺城区',\n",
       " '洗机',\n",
       " '奥普拉',\n",
       " '黑素片',\n",
       " 'Alphabet',\n",
       " '塞内',\n",
       " '台湾',\n",
       " '领导',\n",
       " '恒大店',\n",
       " '融合',\n",
       " '罗马',\n",
       " '吉林',\n",
       " '阿联酋',\n",
       " '奥立克',\n",
       " '6V20',\n",
       " '亿邦',\n",
       " '赔率',\n",
       " '处理',\n",
       " '篮球',\n",
       " '奥普集',\n",
       " '热夹层',\n",
       " '真主党',\n",
       " '半导',\n",
       " '聚泽',\n",
       " '科技',\n",
       " '伯德',\n",
       " 'P8',\n",
       " '本',\n",
       " 'ABCDEFGHJKLM',\n",
       " '冯',\n",
       " '塞顿霍尔',\n",
       " '210',\n",
       " '奥特满',\n",
       " '招聘网',\n",
       " '14：45',\n",
       " '阿贾克斯',\n",
       " '奥普光',\n",
       " 'CSS',\n",
       " '可',\n",
       " '大区',\n",
       " '世界',\n",
       " '律师',\n",
       " '小浪',\n",
       " 'U19',\n",
       " '小组',\n",
       " '小分队',\n",
       " 'Vanfun',\n",
       " '奥多比',\n",
       " '奥普拉路',\n",
       " '落地',\n",
       " '产业园',\n",
       " 'ContiCoach',\n",
       " '菲达',\n",
       " '惠喵',\n",
       " '欧赔',\n",
       " '姚',\n",
       " '子公司',\n",
       " '江西省',\n",
       " '自动化系',\n",
       " '义乌奥普斯顿',\n",
       " '设立',\n",
       " '赛事',\n",
       " '芒果',\n",
       " '冬季',\n",
       " '联后',\n",
       " '旺旺',\n",
       " '1-0',\n",
       " '江淮',\n",
       " '派出所',\n",
       " '华为',\n",
       " '大仓O',\n",
       " '微股',\n",
       " '天王',\n",
       " 'TOKY☆',\n",
       " '地板',\n",
       " '天为',\n",
       " 'KFPS',\n",
       " '睡眠宝',\n",
       " '>易居',\n",
       " '气动',\n",
       " '造气厂',\n",
       " '空间',\n",
       " '路易威登',\n",
       " '亦',\n",
       " '工控',\n",
       " '3200W',\n",
       " '研究',\n",
       " '华科',\n",
       " '维京',\n",
       " '消息网',\n",
       " '南',\n",
       " 'KHD',\n",
       " '奥普DZL-450-30A002',\n",
       " '党中央',\n",
       " '湖北',\n",
       " '行政',\n",
       " '兰西',\n",
       " 'OPTEX',\n",
       " '选择',\n",
       " '激战',\n",
       " '文通',\n",
       " 'S西门子',\n",
       " 'Scene信',\n",
       " '克林顿',\n",
       " '部门',\n",
       " '全景网',\n",
       " '财政',\n",
       " '体系',\n",
       " '孔子',\n",
       " '照明',\n",
       " '捷顺',\n",
       " '微帮',\n",
       " '长春光',\n",
       " '宝光',\n",
       " 'AI+',\n",
       " '咨询',\n",
       " 'WEG',\n",
       " '球队',\n",
       " '房地产业',\n",
       " '安捷伦',\n",
       " 'br>杜克',\n",
       " '共委派',\n",
       " '腾鑫',\n",
       " 'mini+',\n",
       " '战胜',\n",
       " '休斯敦',\n",
       " '飞乐',\n",
       " 'XinhuaGroup',\n",
       " '玉米网',\n",
       " 'BCF6120',\n",
       " '中汽协',\n",
       " '兴涵',\n",
       " '物理',\n",
       " '重药',\n",
       " '11-朱宝杰',\n",
       " '港交所',\n",
       " '保密局',\n",
       " 'CPU',\n",
       " 'image',\n",
       " '惠科',\n",
       " '商方',\n",
       " '日报',\n",
       " '山武',\n",
       " '芬迪',\n",
       " 'Star',\n",
       " '102,354,784',\n",
       " '股权',\n",
       " '_',\n",
       " 'ALNO',\n",
       " '高科铁汉',\n",
       " '新日',\n",
       " '建功迪',\n",
       " '海关',\n",
       " '家电院',\n",
       " '英译',\n",
       " '康华',\n",
       " '电竞',\n",
       " '日报社',\n",
       " '卫生防疫',\n",
       " '体验馆',\n",
       " '广州',\n",
       " '英语',\n",
       " '2019-003',\n",
       " '亚军',\n",
       " '北约',\n",
       " '佳店',\n",
       " '开发区',\n",
       " 'DataCube',\n",
       " '安森',\n",
       " '公司',\n",
       " 'BANNER☆',\n",
       " '管委会',\n",
       " '凤爪',\n",
       " '高盛',\n",
       " '>马',\n",
       " '恒力',\n",
       " '蒋勋',\n",
       " '科原',\n",
       " '欧阳家',\n",
       " '中国队',\n",
       " '总局',\n",
       " '华帝',\n",
       " '墨西哥',\n",
       " '锅',\n",
       " '人社局',\n",
       " '实际',\n",
       " '纪录片',\n",
       " '春秋',\n",
       " '2019-022',\n",
       " '年奥',\n",
       " '电涨',\n",
       " 'CRM',\n",
       " 'OPPO',\n",
       " '>麻省',\n",
       " '腾讯',\n",
       " '昆仑',\n",
       " '化学所',\n",
       " '360',\n",
       " '紫提',\n",
       " '山东',\n",
       " '家居馆',\n",
       " '通报',\n",
       " '商务部',\n",
       " '工厂',\n",
       " '电隶',\n",
       " '铝电',\n",
       " '聚焦',\n",
       " '西舰队',\n",
       " '瑙嗛',\n",
       " '2019-009',\n",
       " '江南',\n",
       " '扩大',\n",
       " '易电',\n",
       " 'MHCX',\n",
       " '拥抱',\n",
       " '高科',\n",
       " '216',\n",
       " '山川',\n",
       " '高新区',\n",
       " '协同',\n",
       " '设备',\n",
       " '大败奥',\n",
       " 'Kinda',\n",
       " 'Lazada',\n",
       " '新三板',\n",
       " '电智',\n",
       " '帼',\n",
       " '适配奥',\n",
       " '儿童',\n",
       " '巴西',\n",
       " '10亿',\n",
       " '利哈伊',\n",
       " ';温',\n",
       " '一汽',\n",
       " 'Anovo',\n",
       " 'SEEGEEL',\n",
       " '光',\n",
       " '加大',\n",
       " '华泰',\n",
       " 'SIEMEN',\n",
       " '米泡',\n",
       " 'Gail',\n",
       " '高铁',\n",
       " '关联',\n",
       " '新京报',\n",
       " '红星',\n",
       " '副总马',\n",
       " '南郊',\n",
       " '华中',\n",
       " '中国',\n",
       " '平板',\n",
       " '桐洲',\n",
       " '锦绣河山',\n",
       " '安琪',\n",
       " '新地',\n",
       " '入驻',\n",
       " '奥普兴',\n",
       " '武汉',\n",
       " '展台',\n",
       " '东北',\n",
       " '微',\n",
       " '怎么样',\n",
       " 'Zeit',\n",
       " '西沃',\n",
       " '卓尔',\n",
       " '营销',\n",
       " '分公司',\n",
       " '南方',\n",
       " 'Adobe',\n",
       " '新街口',\n",
       " '赢I',\n",
       " '奥普自',\n",
       " '24h报',\n",
       " '意甲',\n",
       " '证监局',\n",
       " 'Winfrey',\n",
       " '志高',\n",
       " '深圳市',\n",
       " '奥普家居',\n",
       " '份',\n",
       " '凯塔-贝茨-迪奥普',\n",
       " '汉网',\n",
       " '质量',\n",
       " '御窑',\n",
       " ';诸城',\n",
       " '中远',\n",
       " '自主',\n",
       " '通达',\n",
       " '定制',\n",
       " '技研',\n",
       " '德阳市',\n",
       " '富杰',\n",
       " '南宁',\n",
       " '动态',\n",
       " 'HONEYWELL☆',\n",
       " '德国队',\n",
       " 'ANGELO',\n",
       " '学生会',\n",
       " '普展厅',\n",
       " '社区',\n",
       " 'AaronHoliday',\n",
       " '卫迪',\n",
       " '广播',\n",
       " '>天堂',\n",
       " 'TipMatic',\n",
       " '中控锁',\n",
       " '爱马仕',\n",
       " '___',\n",
       " 'iPOCT黑',\n",
       " '明代',\n",
       " '演讲',\n",
       " '参议院',\n",
       " '奥普反法',\n",
       " '奥普拉南',\n",
       " 'Bausch&amp;Lomb',\n",
       " '意向',\n",
       " 'VIVO',\n",
       " '杀菌机',\n",
       " '旅',\n",
       " 'Hilink',\n",
       " '康达',\n",
       " '交易',\n",
       " '诉商',\n",
       " '和',\n",
       " '延江',\n",
       " '昧税桑',\n",
       " '信息',\n",
       " '新一代',\n",
       " '万川',\n",
       " 'Bloomberg',\n",
       " '清扬路',\n",
       " '自由',\n",
       " '世纪',\n",
       " '斯德哥摩',\n",
       " '奥普洛斯',\n",
       " '北京站',\n",
       " '股',\n",
       " '晋中',\n",
       " '葛洲坝',\n",
       " '闪购',\n",
       " '人大',\n",
       " '斯太尔',\n",
       " '基本',\n",
       " 'T华三H3C',\n",
       " '宜宾',\n",
       " '1080p',\n",
       " 'accomplishments<br',\n",
       " '青社会',\n",
       " '万科',\n",
       " '方正',\n",
       " '超跑',\n",
       " 'AirPods',\n",
       " 'Coloretto',\n",
       " 'SANY',\n",
       " 'Ableby',\n",
       " '实验室',\n",
       " '区域',\n",
       " '华北区',\n",
       " 'W带座',\n",
       " '日间',\n",
       " '汽配',\n",
       " 'YANGMING',\n",
       " '代工厂',\n",
       " '奥普售',\n",
       " '泰岳',\n",
       " '908.69',\n",
       " '之',\n",
       " '21-隋',\n",
       " '女神像',\n",
       " '学院',\n",
       " '长光所',\n",
       " '皮球',\n",
       " '营收',\n",
       " '杀菌线',\n",
       " '德光居',\n",
       " '炒锅',\n",
       " '惊人',\n",
       " '普胸部',\n",
       " '16:36万',\n",
       " '富邑',\n",
       " '北邮',\n",
       " '文化',\n",
       " '>经',\n",
       " '烟草',\n",
       " '北闸口镇',\n",
       " '用',\n",
       " '钳工',\n",
       " '华润',\n",
       " 'SMC',\n",
       " '旅游局',\n",
       " '022~2830~3607',\n",
       " '威纶',\n",
       " '水暖',\n",
       " 'Fire',\n",
       " '智库',\n",
       " 'br>尼奥',\n",
       " '九',\n",
       " 'Arnoldo',\n",
       " '两',\n",
       " '新风',\n",
       " '明宇',\n",
       " '物业',\n",
       " 'ZF',\n",
       " '中访网',\n",
       " '中新网',\n",
       " '中化',\n",
       " '致辞',\n",
       " '发行部',\n",
       " 'LaLiga',\n",
       " '澳普',\n",
       " 'br>泸州',\n",
       " '市场部',\n",
       " '高新网',\n",
       " '北富森',\n",
       " '学校',\n",
       " '模块',\n",
       " '半导体',\n",
       " '奥普里斯',\n",
       " '王本队',\n",
       " '洛丁森',\n",
       " '塑料桶',\n",
       " '冰壶',\n",
       " '佛教',\n",
       " '晶圆厂',\n",
       " '吊顶',\n",
       " '风管',\n",
       " '电加',\n",
       " '奥普图斯',\n",
       " '业界',\n",
       " 'se',\n",
       " 'Annenberg',\n",
       " '苹果',\n",
       " '5-0',\n",
       " '超值',\n",
       " '奥普共谱',\n",
       " '云南',\n",
       " '申花队',\n",
       " '纽约',\n",
       " '杰洛特',\n",
       " '3.1',\n",
       " '生产厂',\n",
       " '戈心',\n",
       " '暖锋',\n",
       " '全品类',\n",
       " '工程兵',\n",
       " '福成',\n",
       " '南开',\n",
       " '监管层',\n",
       " '2018-048',\n",
       " 'SMT',\n",
       " '十大',\n",
       " '宝洁',\n",
       " '美克',\n",
       " '安徽',\n",
       " '梦',\n",
       " '特点',\n",
       " '腾云',\n",
       " '海淘',\n",
       " '百合网',\n",
       " '彭博社',\n",
       " '经销商',\n",
       " '银监会',\n",
       " '普浴',\n",
       " '51大',\n",
       " '哈泼',\n",
       " '观察',\n",
       " '无人机',\n",
       " '李欣',\n",
       " '山西省',\n",
       " 'nbsp;',\n",
       " '日盛',\n",
       " '家居港',\n",
       " '中泰',\n",
       " '湖州市',\n",
       " '金鼎',\n",
       " '中科院',\n",
       " '师范',\n",
       " '招聘会',\n",
       " '开放',\n",
       " '大河州',\n",
       " '摄影家',\n",
       " '能效',\n",
       " '博物馆',\n",
       " '检验',\n",
       " '情报网',\n",
       " '搜狐',\n",
       " '宝马',\n",
       " '荣泰',\n",
       " '103-92',\n",
       " '皮尔兹',\n",
       " '新营',\n",
       " '旗舰店',\n",
       " '音乐',\n",
       " '1.2-20',\n",
       " '家博会',\n",
       " '奥普瑞思',\n",
       " '奥斯陆',\n",
       " '研究院',\n",
       " '青豆',\n",
       " '一',\n",
       " '3801-20-7040',\n",
       " 'www.yule.com.cn',\n",
       " 'TCL',\n",
       " '德阳',\n",
       " '易居',\n",
       " 'APL奥',\n",
       " '汇金',\n",
       " '电机',\n",
       " '制造商',\n",
       " '太湖',\n",
       " '杀青机',\n",
       " 'AUPOS',\n",
       " '分众',\n",
       " '市场',\n",
       " '奥普卫厨',\n",
       " '塑料',\n",
       " '奥普浴霸',\n",
       " '超薄',\n",
       " '国产',\n",
       " '波',\n",
       " '冰球',\n",
       " 'NOPQRSTWXYZ',\n",
       " '客户',\n",
       " 'a>',\n",
       " '宏兵',\n",
       " '沪深',\n",
       " '农尚',\n",
       " '学',\n",
       " '边防',\n",
       " '2.00',\n",
       " '网络',\n",
       " '王凯莉',\n",
       " '｜',\n",
       " '林',\n",
       " '杂志',\n",
       " '评委会',\n",
       " '光机',\n",
       " '济南',\n",
       " '哈佛路',\n",
       " '酵母',\n",
       " '机器人',\n",
       " '厨房',\n",
       " '物价局',\n",
       " '精密',\n",
       " '家居店',\n",
       " '团队',\n",
       " '家用',\n",
       " '市政府',\n",
       " '德烈',\n",
       " '沈阳',\n",
       " '新快报',\n",
       " 'SE',\n",
       " '澳盘',\n",
       " '在线',\n",
       " '金龙羽',\n",
       " '国药',\n",
       " '发展司',\n",
       " '拓普T&amp;P☆',\n",
       " '清洗机',\n",
       " '经理',\n",
       " '100%',\n",
       " '奥普燃气灶',\n",
       " '迪奥斯吉尔队',\n",
       " 'Plum',\n",
       " '福克斯',\n",
       " '阿赫利',\n",
       " '王室',\n",
       " '集团公司',\n",
       " '南美',\n",
       " '奉业',\n",
       " '领先人',\n",
       " '硕士',\n",
       " 'RO车队',\n",
       " '奥普光电',\n",
       " '西瓜',\n",
       " '经济学人',\n",
       " '玉柴',\n",
       " '联系人',\n",
       " '城星队',\n",
       " '>球队',\n",
       " '两用',\n",
       " '凯龙',\n",
       " 'hechang',\n",
       " '浙商',\n",
       " 'EALWI',\n",
       " '欧莱雅',\n",
       " '知名',\n",
       " 'MERLINGERIN',\n",
       " '南加州',\n",
       " '“',\n",
       " '工作',\n",
       " '管理局',\n",
       " '大学',\n",
       " '回复',\n",
       " '生物德',\n",
       " '新闻社',\n",
       " '高价',\n",
       " '哈马斯',\n",
       " '老师',\n",
       " '尚品',\n",
       " '志拓',\n",
       " 'N118',\n",
       " '奥祺佳',\n",
       " '2019-027',\n",
       " '包装',\n",
       " '操控',\n",
       " 'All',\n",
       " '4K',\n",
       " '饭篇&gt;',\n",
       " '西安诺',\n",
       " '胸甲',\n",
       " '维迪奥顿',\n",
       " '费尔南迪尼',\n",
       " '申通',\n",
       " '教育',\n",
       " '服务',\n",
       " '电信',\n",
       " '绵阳',\n",
       " '奥普发源',\n",
       " '奥普感',\n",
       " '招聘',\n",
       " '大巴',\n",
       " '战车',\n",
       " '中恒',\n",
       " '权健',\n",
       " '红网',\n",
       " '...奥普达',\n",
       " '泰光',\n",
       " '酒业',\n",
       " '鹰潭',\n",
       " '20-赫洛泽科',\n",
       " '天长地',\n",
       " '美术',\n",
       " 'Research',\n",
       " 'By维诺',\n",
       " '乐居',\n",
       " '国机',\n",
       " '沧灿',\n",
       " '高清',\n",
       " '洗衣机',\n",
       " '深交所',\n",
       " '协定',\n",
       " '迪奥普',\n",
       " 'BryantCrawford',\n",
       " 'EBA',\n",
       " '新瑞星',\n",
       " '方胜康',\n",
       " '武警',\n",
       " '临沂',\n",
       " '加州',\n",
       " '大四后卫',\n",
       " '流浪',\n",
       " '消费网',\n",
       " '>迪',\n",
       " '网讯',\n",
       " '温弗瑞',\n",
       " '家居',\n",
       " '合肥网',\n",
       " '大江',\n",
       " '风雨',\n",
       " 'DIGITAL',\n",
       " '普工厂',\n",
       " '女文',\n",
       " 'OCR',\n",
       " '厨卫',\n",
       " 'SINA',\n",
       " '龙岗区',\n",
       " '香江',\n",
       " '美院',\n",
       " '奇梅齐耶',\n",
       " 'YAMATAKEazbil◇',\n",
       " '取暖器',\n",
       " '嵊州',\n",
       " '士研',\n",
       " '能量队',\n",
       " '互联网',\n",
       " '法庭',\n",
       " 'Ｂ股',\n",
       " '》',\n",
       " '内华达',\n",
       " '建筑',\n",
       " '机诸城',\n",
       " '翔宇',\n",
       " '金融',\n",
       " '第二十',\n",
       " 'MOELLER',\n",
       " '股东',\n",
       " '1996-2019SINACorporationAllRightsReserved',\n",
       " '奥普X',\n",
       " '科大',\n",
       " '反极度',\n",
       " '28-姚',\n",
       " '头部',\n",
       " '经贸',\n",
       " '宏昌',\n",
       " 'AB',\n",
       " '预报',\n",
       " '高能',\n",
       " '运通',\n",
       " 'YoutubeTV',\n",
       " '欧美',\n",
       " '\\u200b\\u200b',\n",
       " '发电',\n",
       " '斯帕克',\n",
       " '物流',\n",
       " '公安',\n",
       " '牵银系',\n",
       " '标准',\n",
       " '西门子',\n",
       " 'AUTONIC',\n",
       " '交流处',\n",
       " '体育局',\n",
       " '职位',\n",
       " '劲耀',\n",
       " '泛家居网',\n",
       " '地板展',\n",
       " '气象台',\n",
       " '2〕O',\n",
       " '华新',\n",
       " '龙树',\n",
       " '自控',\n",
       " '宿舍楼',\n",
       " '升降',\n",
       " '装饰网',\n",
       " '平大店',\n",
       " '燕山网',\n",
       " '硅谷',\n",
       " '>普',\n",
       " '马西卡',\n",
       " '塔木德',\n",
       " '新界',\n",
       " '交易所',\n",
       " 'amp;nbsp',\n",
       " '-',\n",
       " '商傅',\n",
       " 'CNN',\n",
       " 'RIKEN☆',\n",
       " '全屋',\n",
       " '宁波市',\n",
       " '交建',\n",
       " '海科',\n",
       " '康奈尔',\n",
       " 'AndyPenn',\n",
       " '鸿海',\n",
       " 'Meg',\n",
       " '瓦伦汀',\n",
       " 'OpticalTelecom',\n",
       " '器☆',\n",
       " '森斗',\n",
       " '童话镇',\n",
       " '佳兆业',\n",
       " '价值线',\n",
       " '清洁',\n",
       " 'ANV◇',\n",
       " '创业板',\n",
       " '大杂院',\n",
       " '中财网',\n",
       " 'ai',\n",
       " '售后服务',\n",
       " '总会',\n",
       " '责任',\n",
       " 'ApplePay',\n",
       " '清华大学',\n",
       " '亚洲',\n",
       " '华通',\n",
       " '日兰',\n",
       " 'McKinsey',\n",
       " 'www.ysslc.comgupiaorumen1618280.html',\n",
       " '沪B',\n",
       " '吸顶灯',\n",
       " '晨报队',\n",
       " '185.76%',\n",
       " 'AstonMartin',\n",
       " '2-1',\n",
       " '联丰镜',\n",
       " '卡尔德克胸部',\n",
       " '大店',\n",
       " '车管所',\n",
       " '正是',\n",
       " '瓷器',\n",
       " '卫理',\n",
       " 'i>',\n",
       " '富豪',\n",
       " '管家',\n",
       " '联近',\n",
       " '人和队',\n",
       " '皕像',\n",
       " '春光',\n",
       " '迈瑞',\n",
       " '奥普太赫兹',\n",
       " '随州',\n",
       " '奥普昵',\n",
       " 'WTO',\n",
       " '云浮',\n",
       " '德昌',\n",
       " '研究所',\n",
       " 'WLS',\n",
       " '杜克',\n",
       " '奥普科',\n",
       " '联合',\n",
       " '奥普托米克',\n",
       " '啤酒',\n",
       " '自卫',\n",
       " '著名',\n",
       " '>身处南',\n",
       " '亲子网',\n",
       " '智宇',\n",
       " '蟒佰利',\n",
       " '德州',\n",
       " '北京市',\n",
       " 'IDM',\n",
       " '职业',\n",
       " '0瓦',\n",
       " '新浪',\n",
       " '行长会',\n",
       " '音频',\n",
       " 'EMC',\n",
       " '2016-08-24',\n",
       " '立法',\n",
       " '营业部',\n",
       " '均晟',\n",
       " '德新社',\n",
       " '汽车报',\n",
       " '经济效益',\n",
       " '4008-922-968',\n",
       " '能源',\n",
       " 'CEO',\n",
       " 'Panasonic☆',\n",
       " '博物院',\n",
       " '非上市',\n",
       " '内环',\n",
       " 'aupu奥普布局',\n",
       " '全柴',\n",
       " '奥断',\n",
       " '德国',\n",
       " '金球奖',\n",
       " '棉麻',\n",
       " '财政局',\n",
       " '文\\\\',\n",
       " '日立',\n",
       " '成灶',\n",
       " 'ABCDEFGHIJKLM',\n",
       " '带吊',\n",
       " '北大',\n",
       " '微软',\n",
       " '官方网',\n",
       " '北方',\n",
       " ...}"
      ]
     },
     "execution_count": 37,
     "metadata": {},
     "output_type": "execute_result"
    }
   ],
   "source": [
    "set(word_dict['ORGANIZATION'])"
   ]
  },
  {
   "cell_type": "code",
   "execution_count": 38,
   "metadata": {},
   "outputs": [
    {
     "data": {
      "text/plain": [
       "True"
      ]
     },
     "execution_count": 38,
     "metadata": {},
     "output_type": "execute_result"
    }
   ],
   "source": [
    "'奥普' in text"
   ]
  },
  {
   "cell_type": "code",
   "execution_count": 39,
   "metadata": {},
   "outputs": [
    {
     "data": {
      "text/plain": [
       "True"
      ]
     },
     "execution_count": 39,
     "metadata": {},
     "output_type": "execute_result"
    }
   ],
   "source": [
    "'奥普' in word_dict['ORGANIZATION']"
   ]
  },
  {
   "cell_type": "code",
   "execution_count": 40,
   "metadata": {},
   "outputs": [
    {
     "name": "stderr",
     "output_type": "stream",
     "text": [
      "Downloading: \"https://github.com/lancopku/pkuseg-python/releases/download/v0.0.16/news.zip\" to /root/.pkuseg/news.zip\n",
      "100%|██████████| 43767759/43767759 [21:38<00:00, 33697.92it/s] \n"
     ]
    }
   ],
   "source": [
    "seg = pkuseg.pkuseg(model_name='news')"
   ]
  },
  {
   "cell_type": "code",
   "execution_count": 41,
   "metadata": {},
   "outputs": [
    {
     "data": {
      "text/plain": [
       "True"
      ]
     },
     "execution_count": 41,
     "metadata": {},
     "output_type": "execute_result"
    }
   ],
   "source": [
    "'奥普家居' in text"
   ]
  },
  {
   "cell_type": "code",
   "execution_count": 42,
   "metadata": {},
   "outputs": [],
   "source": [
    "unique_word = set(text)"
   ]
  },
  {
   "cell_type": "code",
   "execution_count": 45,
   "metadata": {},
   "outputs": [
    {
     "data": {
      "text/plain": [
       "47310"
      ]
     },
     "execution_count": 45,
     "metadata": {},
     "output_type": "execute_result"
    }
   ],
   "source": [
    "' '.join(content_1).count('奥普')"
   ]
  },
  {
   "cell_type": "code",
   "execution_count": 46,
   "metadata": {},
   "outputs": [
    {
     "data": {
      "text/plain": [
       "3591"
      ]
     },
     "execution_count": 46,
     "metadata": {},
     "output_type": "execute_result"
    }
   ],
   "source": [
    "' '.join(content_1).count('迪奥普')"
   ]
  },
  {
   "cell_type": "code",
   "execution_count": 51,
   "metadata": {},
   "outputs": [
    {
     "data": {
      "text/plain": [
       "['abcda']"
      ]
     },
     "execution_count": 51,
     "metadata": {},
     "output_type": "execute_result"
    }
   ],
   "source": [
    "'abcda'.split(',')"
   ]
  },
  {
   "cell_type": "code",
   "execution_count": 50,
   "metadata": {},
   "outputs": [
    {
     "data": {
      "text/plain": [
       "0"
      ]
     },
     "execution_count": 50,
     "metadata": {},
     "output_type": "execute_result"
    }
   ],
   "source": [
    "len(BN_LIST)"
   ]
  },
  {
   "cell_type": "code",
   "execution_count": 8,
   "metadata": {},
   "outputs": [],
   "source": [
    "import jieba"
   ]
  },
  {
   "cell_type": "code",
   "execution_count": 9,
   "metadata": {},
   "outputs": [],
   "source": [
    "import gensim"
   ]
  },
  {
   "cell_type": "code",
   "execution_count": 86,
   "metadata": {},
   "outputs": [],
   "source": [
    "def process_text(brand_name, text, bid):\n",
    "    bid = str(bid).zfill(4)\n",
    "    bn = brand_name.split('_')\n",
    "    text = remove_html(text)\n",
    "    for b in bn:\n",
    "        text = text.replace(b, f' BRAND{bid} ')\n",
    "    words_list = jieba.cut(text)\n",
    "    return list(words_list)"
   ]
  },
  {
   "cell_type": "code",
   "execution_count": 118,
   "metadata": {},
   "outputs": [],
   "source": [
    "def text_generator(file_path):\n",
    "    file_list = [name for name in os.listdir(file_path) if not name.startswith(('.'))]\n",
    "    brand_list = [fn.split('.')[0] for fn in file_list]\n",
    "    for fname in file_list:\n",
    "        bn = fname.split('.')[0]\n",
    "        bid = brand_list.index(bn)\n",
    "        for line in open(os.path.join(file_path, fname)):\n",
    "            yield process_text(bn, line, bid)"
   ]
  },
  {
   "cell_type": "code",
   "execution_count": 119,
   "metadata": {},
   "outputs": [],
   "source": [
    "class corpusIterator():\n",
    "    def __init__(self, file_path, generator_function):\n",
    "        self.file_path = file_path\n",
    "        self.generator_function = generator_function\n",
    "        self.generator = self.generator_function(file_path)\n",
    "\n",
    "    def __iter__(self):\n",
    "        # reset the generator\n",
    "        self.generator = self.generator_function(self.file_path)\n",
    "        return self\n",
    "\n",
    "    def __next__(self):\n",
    "        result = next(self.generator)\n",
    "        if result is None:\n",
    "            raise StopIteration\n",
    "        else:\n",
    "            return result"
   ]
  },
  {
   "cell_type": "code",
   "execution_count": 132,
   "metadata": {},
   "outputs": [],
   "source": [
    "class brandCorpus(object):\n",
    "    def __init__(self, file_path):\n",
    "        self.file_path = file_path\n",
    "        self.file_list = [name for name in os.listdir(file_path) if not name.startswith(('.'))]\n",
    "        self.brand_list = [fn.split('.')[0] for fn in self.file_list]\n",
    "    \n",
    "    def __iter__(self):\n",
    "        for fname in self.file_list:\n",
    "            bn = fname.split('.')[0]\n",
    "            bid = self.brand_list.index(bn)\n",
    "            for line in open(os.path.join(self.file_path, fname)):\n",
    "                yield process_text(bn, line, bid)"
   ]
  },
  {
   "cell_type": "code",
   "execution_count": 133,
   "metadata": {},
   "outputs": [],
   "source": [
    "corpus = brandCorpus('/home/yuanfang/word2vec/品牌数据下载')"
   ]
  },
  {
   "cell_type": "code",
   "execution_count": 120,
   "metadata": {},
   "outputs": [],
   "source": [
    "corpus = corpusIterator('/home/yuanfang/word2vec/品牌数据下载', text_generator)"
   ]
  },
  {
   "cell_type": "code",
   "execution_count": 130,
   "metadata": {},
   "outputs": [
    {
     "data": {
      "text/plain": [
       "__main__.brandCorpus"
      ]
     },
     "execution_count": 130,
     "metadata": {},
     "output_type": "execute_result"
    }
   ],
   "source": [
    "type(corpus)"
   ]
  },
  {
   "cell_type": "code",
   "execution_count": null,
   "metadata": {},
   "outputs": [],
   "source": [
    "model = gensim.models.Word2Vec(corpus, sg=1, size=256, workers=6, iter=3)"
   ]
  },
  {
   "cell_type": "code",
   "execution_count": 137,
   "metadata": {},
   "outputs": [
    {
     "data": {
      "text/plain": [
       "gensim.models.word2vec.Word2Vec"
      ]
     },
     "execution_count": 137,
     "metadata": {},
     "output_type": "execute_result"
    }
   ],
   "source": [
    "type(model)"
   ]
  },
  {
   "cell_type": "code",
   "execution_count": 138,
   "metadata": {},
   "outputs": [
    {
     "name": "stderr",
     "output_type": "stream",
     "text": [
      "/home/anaconda3/lib/python3.7/site-packages/smart_open/smart_open_lib.py:398: UserWarning: This function is deprecated, use smart_open.open instead. See the migration notes for details: https://github.com/RaRe-Technologies/smart_open/blob/master/README.rst#migrating-to-the-new-open-function\n",
      "  'See the migration notes for details: %s' % _MIGRATION_NOTES_URL\n"
     ]
    }
   ],
   "source": [
    "model.save('first.model')"
   ]
  },
  {
   "cell_type": "code",
   "execution_count": 140,
   "metadata": {},
   "outputs": [
    {
     "data": {
      "text/plain": [
       "array([ 2.47359768e-01,  3.59964222e-02, -3.16821307e-01,  1.22957207e-01,\n",
       "       -4.63161021e-01,  3.31771970e-01,  1.92667261e-01,  9.71315987e-03,\n",
       "       -1.19368128e-01, -3.87005955e-01, -8.72839838e-02, -2.21569136e-01,\n",
       "       -8.04826543e-02,  2.08012998e-01, -1.03855813e-02, -8.81899968e-02,\n",
       "        3.02601963e-01, -9.14220810e-02,  5.01279056e-01, -1.01434149e-01,\n",
       "        2.15141073e-01,  1.15438275e-01, -2.10707784e-01,  2.69315511e-01,\n",
       "        2.26198524e-01, -1.34645581e-01, -9.47156921e-02, -5.93132615e-01,\n",
       "       -4.84821379e-01, -2.90767729e-01,  5.49858212e-02, -2.82982022e-01,\n",
       "       -9.10296291e-02,  2.74068505e-01,  2.35823184e-01, -5.69879115e-02,\n",
       "        7.30370805e-02, -4.66789352e-05, -2.46921629e-01,  6.15030564e-02,\n",
       "        1.46169707e-01,  5.25629222e-01,  1.56749308e-01,  1.77848235e-01,\n",
       "       -4.34512198e-01,  5.17917037e-01, -3.74706686e-02,  4.81250584e-02,\n",
       "       -3.05547744e-01, -1.97669208e-01,  1.93668723e-01, -7.55123645e-02,\n",
       "        7.83505142e-02, -2.16701090e-01, -1.89779088e-01, -4.39052075e-01,\n",
       "       -8.92012659e-03,  8.79345238e-02,  6.52787983e-02, -3.14458817e-01,\n",
       "       -1.05026074e-01,  2.96271276e-02, -5.26320040e-02,  1.10630624e-01,\n",
       "        3.47074345e-02, -6.83673769e-02, -6.75217509e-02, -2.88238414e-02,\n",
       "       -1.32300779e-01,  5.74478321e-02, -1.45231307e-01, -2.33203664e-01,\n",
       "       -1.16047099e-01, -2.04326212e-01,  1.87419608e-01,  1.25466317e-01,\n",
       "        3.00447732e-01, -2.08193392e-01, -6.03474416e-02,  1.56576350e-01,\n",
       "       -4.63605970e-01,  4.76859331e-01,  3.29920679e-01,  2.57679015e-01,\n",
       "        1.96033105e-01,  1.44609585e-01,  6.12857565e-02, -8.63160472e-03,\n",
       "       -1.22800142e-01, -3.15440178e-01,  1.03463784e-01, -8.63038227e-02,\n",
       "        6.40065549e-03, -9.17414203e-02,  1.04652263e-01,  4.54644620e-01,\n",
       "        8.38454068e-02,  4.83940654e-02,  2.23063558e-01,  3.46688122e-01,\n",
       "       -4.45434526e-02,  4.68280315e-01,  3.50925177e-01, -1.64094210e-01,\n",
       "       -7.58740008e-02, -3.07585243e-02,  3.97481918e-01, -1.66165963e-01,\n",
       "       -6.51222467e-01,  2.01502405e-02,  4.04502302e-01, -3.24432909e-01,\n",
       "       -3.04181516e-01,  2.17155397e-01, -3.55534069e-02,  1.43201932e-01,\n",
       "        1.63168877e-01,  1.98517391e-03, -2.79991537e-01,  1.42768800e-01,\n",
       "        1.58944607e-01,  1.05157845e-01, -2.33976111e-01, -5.82208216e-01,\n",
       "        1.74778253e-01,  4.40692484e-01, -1.21234469e-01, -2.45322380e-02,\n",
       "       -3.17129076e-01,  4.88214381e-02,  1.03695132e-01, -3.06813326e-02,\n",
       "        3.80686253e-01, -3.49720269e-02, -5.43744303e-02,  2.91254401e-01,\n",
       "        3.71872447e-04, -6.87090084e-02, -3.26694340e-01,  1.60867095e-01,\n",
       "        4.49898154e-01, -3.21822912e-01, -1.15202054e-01, -2.28616176e-04,\n",
       "       -2.68894672e-01, -1.03510045e-01, -7.73740560e-02,  1.51070699e-01,\n",
       "       -3.58361155e-01,  1.30887404e-01,  2.44402930e-01, -1.11586943e-01,\n",
       "       -1.25244811e-01,  2.41973832e-01,  7.72608817e-02, -3.82951260e-01,\n",
       "        4.90744382e-01,  8.83819088e-02, -1.57295808e-01, -1.26663864e-01,\n",
       "        1.46981589e-02, -1.57843649e-01,  4.46380466e-01,  8.45160335e-02,\n",
       "       -3.90846878e-02,  1.04899928e-01,  1.52049482e-01, -4.61463660e-01,\n",
       "        7.82791227e-02,  3.15147668e-01, -2.12525472e-01,  8.60224385e-03,\n",
       "       -2.19105765e-01,  4.57160354e-01, -2.32850149e-01,  2.28267506e-01,\n",
       "       -2.20654413e-01, -4.42414135e-01, -5.72998166e-01, -3.20326149e-01,\n",
       "        2.16709241e-01,  2.22430512e-01,  3.86495255e-02,  1.21688202e-01,\n",
       "        1.36542618e-01,  2.77936310e-01,  1.76642612e-01,  1.88515503e-02,\n",
       "        6.26600832e-02,  2.35691428e-01,  2.86361098e-01,  6.93976283e-02,\n",
       "       -5.42549074e-01, -1.78894356e-01,  5.03720827e-02,  5.74756265e-02,\n",
       "        1.15689233e-01, -1.95974812e-01,  6.12274595e-02,  2.54511029e-01,\n",
       "        3.02242804e-02,  2.50374943e-01, -4.42209542e-01,  1.09268375e-01,\n",
       "        4.35801923e-01, -8.94320384e-02, -2.27995187e-01,  1.27785251e-01,\n",
       "        1.46449775e-01,  6.50558472e-02,  1.93111062e-01, -1.32108778e-01,\n",
       "       -7.07626045e-02,  1.62011862e-01,  5.77259175e-02,  3.54777068e-01,\n",
       "       -2.92480737e-01, -1.97852775e-02, -9.36525092e-02, -3.71381268e-02,\n",
       "       -1.58894271e-01,  2.46521413e-01, -2.01565087e-01,  2.53232688e-01,\n",
       "        2.52588421e-01, -1.07042961e-01,  1.95781693e-01,  7.34609663e-02,\n",
       "        4.66915816e-02, -4.88271415e-01, -1.80373136e-02, -4.07359302e-01,\n",
       "        1.96993366e-01,  1.00626685e-01, -1.50681540e-01,  2.65735477e-01,\n",
       "       -1.12068187e-03, -1.33104371e-02,  4.02529001e-01, -1.21060401e-01,\n",
       "       -2.54422370e-02,  1.53245866e-01, -4.60490316e-01,  1.58013981e-02,\n",
       "       -1.45285025e-01,  2.64769107e-01,  2.16226146e-01,  4.87226158e-01,\n",
       "       -1.39895435e-02,  1.77212194e-01, -4.45242524e-01,  2.13852674e-01,\n",
       "       -3.04024736e-03, -7.80498832e-02, -7.76672736e-02,  1.25310419e-03],\n",
       "      dtype=float32)"
      ]
     },
     "execution_count": 140,
     "metadata": {},
     "output_type": "execute_result"
    }
   ],
   "source": [
    "model.wv['BRAND0001']"
   ]
  },
  {
   "cell_type": "code",
   "execution_count": 144,
   "metadata": {},
   "outputs": [],
   "source": [
    "brand_code = {}\n",
    "for b in corpus.brand_list[:]:\n",
    "    brand_code[f'BRAND{corpus.brand_list.index(b)}'] = b"
   ]
  },
  {
   "cell_type": "code",
   "execution_count": 15,
   "metadata": {},
   "outputs": [],
   "source": [
    "import pickle"
   ]
  },
  {
   "cell_type": "code",
   "execution_count": 148,
   "metadata": {},
   "outputs": [],
   "source": [
    "# with open('first_code.pkl', 'wb') as pkl:\n",
    "#     pickle.dump(brand_code, pkl)"
   ]
  },
  {
   "cell_type": "code",
   "execution_count": 16,
   "metadata": {},
   "outputs": [],
   "source": [
    "with open('first_code.pkl', 'rb') as pkl:\n",
    "    brand_code = pickle.load(pkl)"
   ]
  },
  {
   "cell_type": "code",
   "execution_count": 17,
   "metadata": {},
   "outputs": [],
   "source": [
    "brand_code = {k[:5]+(k[5:].zfill(4)): v for k, v in brand_code.items()}"
   ]
  },
  {
   "cell_type": "code",
   "execution_count": 18,
   "metadata": {},
   "outputs": [],
   "source": [
    "brand_code_2 = {v: k for k, v in brand_code.items()}"
   ]
  },
  {
   "cell_type": "code",
   "execution_count": 19,
   "metadata": {},
   "outputs": [
    {
     "data": {
      "text/plain": [
       "'BRAND0299'"
      ]
     },
     "execution_count": 19,
     "metadata": {},
     "output_type": "execute_result"
    }
   ],
   "source": [
    "brand_code_2['红旗_解放_一汽']"
   ]
  },
  {
   "cell_type": "code",
   "execution_count": 20,
   "metadata": {},
   "outputs": [],
   "source": [
    "with open('词表.csv', 'r') as f:\n",
    "    user_dict = f.readlines()"
   ]
  },
  {
   "cell_type": "code",
   "execution_count": 21,
   "metadata": {},
   "outputs": [
    {
     "data": {
      "text/plain": [
       "1003"
      ]
     },
     "execution_count": 21,
     "metadata": {},
     "output_type": "execute_result"
    }
   ],
   "source": [
    "len(user_dict)"
   ]
  },
  {
   "cell_type": "code",
   "execution_count": 33,
   "metadata": {},
   "outputs": [],
   "source": [
    "for i in user_dict:\n",
    "    if i[-1] == '\\n':\n",
    "        print(i)"
   ]
  },
  {
   "cell_type": "code",
   "execution_count": 22,
   "metadata": {},
   "outputs": [],
   "source": [
    "user_dict[0] = user_dict[0][1:]"
   ]
  },
  {
   "cell_type": "code",
   "execution_count": 23,
   "metadata": {},
   "outputs": [],
   "source": [
    "import jieba"
   ]
  },
  {
   "cell_type": "code",
   "execution_count": 24,
   "metadata": {},
   "outputs": [],
   "source": [
    "for u in user_dict:\n",
    "    user_dict[user_dict.index(u)] = u.strip()"
   ]
  },
  {
   "cell_type": "code",
   "execution_count": 25,
   "metadata": {},
   "outputs": [],
   "source": [
    "def handler_jieba_suggest_freq(term):\n",
    "    jieba.suggest_freq(term, tune=True)"
   ]
  },
  {
   "cell_type": "code",
   "execution_count": 26,
   "metadata": {},
   "outputs": [
    {
     "name": "stderr",
     "output_type": "stream",
     "text": [
      "Building prefix dict from the default dictionary ...\n",
      "Loading model from cache /tmp/jieba.cache\n",
      "Loading model cost 0.954 seconds.\n",
      "Prefix dict has been built succesfully.\n"
     ]
    }
   ],
   "source": [
    "# loading userdict \n",
    "result = map(handler_jieba_suggest_freq, user_dict)\n",
    "for ele in result:\n",
    "    pass"
   ]
  },
  {
   "cell_type": "code",
   "execution_count": 27,
   "metadata": {},
   "outputs": [
    {
     "data": {
      "text/plain": [
       "'奥普.txt'"
      ]
     },
     "execution_count": 27,
     "metadata": {},
     "output_type": "execute_result"
    }
   ],
   "source": [
    "file_list[0]"
   ]
  },
  {
   "cell_type": "code",
   "execution_count": 200,
   "metadata": {},
   "outputs": [],
   "source": [
    "text = jieba.cut(content_1[0], HMM=False)"
   ]
  },
  {
   "cell_type": "code",
   "execution_count": 201,
   "metadata": {},
   "outputs": [],
   "source": [
    "text = list(text)"
   ]
  },
  {
   "cell_type": "code",
   "execution_count": 202,
   "metadata": {},
   "outputs": [
    {
     "data": {
      "text/plain": [
       "True"
      ]
     },
     "execution_count": 202,
     "metadata": {},
     "output_type": "execute_result"
    }
   ],
   "source": [
    "'奥普' in user_dict"
   ]
  },
  {
   "cell_type": "code",
   "execution_count": 204,
   "metadata": {},
   "outputs": [
    {
     "data": {
      "text/plain": [
       "['资本跨境流动', '是', '一件', '好事']"
      ]
     },
     "execution_count": 204,
     "metadata": {},
     "output_type": "execute_result"
    }
   ],
   "source": [
    "list(jieba.cut('资本跨境流动是一件好事'))"
   ]
  },
  {
   "cell_type": "code",
   "execution_count": 29,
   "metadata": {},
   "outputs": [],
   "source": [
    "with open('stop_words.txt', 'r') as f:\n",
    "    stop_words = set([line.strip() for line in f])"
   ]
  },
  {
   "cell_type": "code",
   "execution_count": 34,
   "metadata": {},
   "outputs": [],
   "source": [
    "def process_text2(text, bn):\n",
    "    text = remove_html(text)\n",
    "    if \"_\" in bn:\n",
    "        bn_list = bn.split(\"_\")\n",
    "    else:\n",
    "        bn_list = [bn]\n",
    "    for b in bn_list:\n",
    "        text = text.replace(b, brand_code_2[bn])\n",
    "    words_list = jieba.lcut(text, HMM=False)\n",
    "    words_list = [w.strip() for w in words_list if w.strip() not in stop_words]\n",
    "    return words_list"
   ]
  },
  {
   "cell_type": "code",
   "execution_count": 31,
   "metadata": {},
   "outputs": [],
   "source": [
    "o_path = '/home/yuanfang/word2vec/seg2'"
   ]
  },
  {
   "cell_type": "code",
   "execution_count": 59,
   "metadata": {},
   "outputs": [
    {
     "data": {
      "text/plain": [
       "1"
      ]
     },
     "execution_count": 59,
     "metadata": {},
     "output_type": "execute_result"
    }
   ],
   "source": [
    "file_list.index('绿地集团.txt')"
   ]
  },
  {
   "cell_type": "code",
   "execution_count": 65,
   "metadata": {},
   "outputs": [],
   "source": [
    "e_file_list = file_list[189:]"
   ]
  },
  {
   "cell_type": "code",
   "execution_count": 66,
   "metadata": {},
   "outputs": [
    {
     "data": {
      "text/plain": [
       "'智多星+.txt'"
      ]
     },
     "execution_count": 66,
     "metadata": {},
     "output_type": "execute_result"
    }
   ],
   "source": [
    "e_file_list[0]"
   ]
  },
  {
   "cell_type": "code",
   "execution_count": 33,
   "metadata": {},
   "outputs": [],
   "source": [
    "import re"
   ]
  },
  {
   "cell_type": "code",
   "execution_count": null,
   "metadata": {},
   "outputs": [],
   "source": [
    "for f in file_list:\n",
    "    of = open(os.path.join(o_path, f), 'w')\n",
    "    with open(os.path.join(f_path, f), 'r') as tf:\n",
    "        for line in tf:\n",
    "            words = process_text2(line.strip(), f[:-4])\n",
    "            print(' '.join(words), file=of)\n",
    "    of.close()"
   ]
  },
  {
   "cell_type": "code",
   "execution_count": 51,
   "metadata": {},
   "outputs": [
    {
     "data": {
      "text/plain": [
       "'智多星+'"
      ]
     },
     "execution_count": 51,
     "metadata": {},
     "output_type": "execute_result"
    }
   ],
   "source": [
    "f[:-4]"
   ]
  },
  {
   "cell_type": "code",
   "execution_count": 45,
   "metadata": {},
   "outputs": [
    {
     "data": {
      "text/plain": [
       "'东南汽车'"
      ]
     },
     "execution_count": 45,
     "metadata": {},
     "output_type": "execute_result"
    }
   ],
   "source": [
    "'东南汽车.txt'[:-4]"
   ]
  },
  {
   "cell_type": "code",
   "execution_count": 35,
   "metadata": {},
   "outputs": [],
   "source": [
    "import time"
   ]
  },
  {
   "cell_type": "code",
   "execution_count": 39,
   "metadata": {},
   "outputs": [],
   "source": [
    "t1 = time.time()\n",
    "of = open(os.path.join(o_path, '00东南汽车.txt'), 'w')\n",
    "with open(os.path.join(f_path, '东南汽车.txt'), 'r') as tf:\n",
    "#     words = process_text2(' '.join(all_lines))\n",
    "#     of.write(' '.join(words))\n",
    "    for line in tf:\n",
    "        words = process_text2(line.strip(), '东南汽车')\n",
    "        print(' '.join(words), file=of)\n",
    "of.close()\n",
    "tn = time.time()"
   ]
  },
  {
   "cell_type": "code",
   "execution_count": 40,
   "metadata": {},
   "outputs": [
    {
     "data": {
      "text/plain": [
       "13.550464391708374"
      ]
     },
     "execution_count": 40,
     "metadata": {},
     "output_type": "execute_result"
    }
   ],
   "source": [
    "tn - t1"
   ]
  },
  {
   "cell_type": "code",
   "execution_count": 43,
   "metadata": {},
   "outputs": [
    {
     "data": {
      "text/plain": [
       "'BRAND0540'"
      ]
     },
     "execution_count": 43,
     "metadata": {},
     "output_type": "execute_result"
    }
   ],
   "source": [
    "brand_code_2['东南汽车']"
   ]
  },
  {
   "cell_type": "code",
   "execution_count": 44,
   "metadata": {},
   "outputs": [],
   "source": [
    "with open(os.path.join(o_path, '00东南汽车.txt'), 'r') as tf:\n",
    "    c = 0\n",
    "    for line in tf:\n",
    "        if 'BRAND0540' in line.split(' '):\n",
    "            c += 1"
   ]
  },
  {
   "cell_type": "code",
   "execution_count": 47,
   "metadata": {},
   "outputs": [
    {
     "data": {
      "text/plain": [
       "'/home/yuanfang/word2vec/seg2'"
      ]
     },
     "execution_count": 47,
     "metadata": {},
     "output_type": "execute_result"
    }
   ],
   "source": [
    "o_path"
   ]
  },
  {
   "cell_type": "code",
   "execution_count": 48,
   "metadata": {},
   "outputs": [],
   "source": [
    "o_file_list = [name for name in os.listdir(o_path) if not name.startswith(('.'))]"
   ]
  },
  {
   "cell_type": "code",
   "execution_count": 49,
   "metadata": {},
   "outputs": [
    {
     "data": {
      "text/plain": [
       "773"
      ]
     },
     "execution_count": 49,
     "metadata": {},
     "output_type": "execute_result"
    }
   ],
   "source": [
    "len(o_file_list)"
   ]
  },
  {
   "cell_type": "code",
   "execution_count": 50,
   "metadata": {},
   "outputs": [
    {
     "data": {
      "text/plain": [
       "'鸿星尔克.txt'"
      ]
     },
     "execution_count": 50,
     "metadata": {},
     "output_type": "execute_result"
    }
   ],
   "source": [
    "o_file_list[-2]"
   ]
  },
  {
   "cell_type": "code",
   "execution_count": 52,
   "metadata": {},
   "outputs": [],
   "source": [
    "import gensim"
   ]
  },
  {
   "cell_type": "code",
   "execution_count": 53,
   "metadata": {},
   "outputs": [],
   "source": [
    "class brandCorpus2(object):\n",
    "    def __init__(self, file_path):\n",
    "        self.file_path = file_path\n",
    "        self.file_list = [name for name in os.listdir(file_path) if not name.startswith(('.'))]\n",
    "        self.brand_list = [fn.split('.')[0] for fn in self.file_list]\n",
    "    \n",
    "    def __iter__(self):\n",
    "        for fname in self.file_list:\n",
    "#             bn = fname.split('.')[0]\n",
    "#             bid = self.brand_list.index(bn)\n",
    "            for line in open(os.path.join(self.file_path, fname)):\n",
    "                yield line.split(' ')"
   ]
  },
  {
   "cell_type": "code",
   "execution_count": 54,
   "metadata": {},
   "outputs": [],
   "source": [
    "corpus = brandCorpus2('/home/yuanfang/word2vec/seg2')"
   ]
  },
  {
   "cell_type": "code",
   "execution_count": 55,
   "metadata": {},
   "outputs": [
    {
     "name": "stderr",
     "output_type": "stream",
     "text": [
      "/home/anaconda3/lib/python3.7/site-packages/smart_open/smart_open_lib.py:398: UserWarning: This function is deprecated, use smart_open.open instead. See the migration notes for details: https://github.com/RaRe-Technologies/smart_open/blob/master/README.rst#migrating-to-the-new-open-function\n",
      "  'See the migration notes for details: %s' % _MIGRATION_NOTES_URL\n"
     ]
    }
   ],
   "source": [
    "model = gensim.models.Word2Vec(corpus, sg=1, size=256, workers=6, iter=3)\n",
    "model.save('third.model')"
   ]
  },
  {
   "cell_type": "code",
   "execution_count": 47,
   "metadata": {},
   "outputs": [
    {
     "name": "stdout",
     "output_type": "stream",
     "text": [
      "JOMOO九牧\n",
      "智多星+\n",
      "强力体育\n",
      "恰恰\n",
      "海格HIGER\n",
      "中国常柴\n",
      "博德BODE\n",
      "格菜斯陶瓷\n",
      "00东南汽车\n",
      "361°\n",
      "首都时空\n",
      "招商证券\n",
      "名典大将作磁砖\n",
      "吴博磁砖\n"
     ]
    },
    {
     "name": "stderr",
     "output_type": "stream",
     "text": [
      "/home/anaconda3/lib/python3.7/site-packages/ipykernel_launcher.py:7: DeprecationWarning: Call to deprecated `__contains__` (Method will be removed in 4.0.0, use self.wv.__contains__() instead).\n",
      "  import sys\n"
     ]
    }
   ],
   "source": [
    "for bn in corpus.brand_list:\n",
    "    if \"_\" in bn:\n",
    "        bn_list = bn.split('_')\n",
    "    else:\n",
    "        bn_list = [bn]\n",
    "    for b in bn_list:\n",
    "        if b not in model:\n",
    "            print(b)"
   ]
  },
  {
   "cell_type": "code",
   "execution_count": 1,
   "metadata": {},
   "outputs": [],
   "source": [
    "import os"
   ]
  },
  {
   "cell_type": "code",
   "execution_count": 6,
   "metadata": {},
   "outputs": [],
   "source": [
    "with open(os.path.join('/home/yuanfang/word2vec/seg2', '华为.txt'), 'r') as f:\n",
    "    c = 0\n",
    "    for line in f:\n",
    "        c += 1"
   ]
  },
  {
   "cell_type": "code",
   "execution_count": 56,
   "metadata": {},
   "outputs": [
    {
     "data": {
      "text/plain": [
       "773"
      ]
     },
     "execution_count": 56,
     "metadata": {},
     "output_type": "execute_result"
    }
   ],
   "source": [
    "len(corpus.brand_list)"
   ]
  },
  {
   "cell_type": "code",
   "execution_count": 60,
   "metadata": {},
   "outputs": [
    {
     "data": {
      "text/plain": [
       "773"
      ]
     },
     "execution_count": 60,
     "metadata": {},
     "output_type": "execute_result"
    }
   ],
   "source": [
    "len(brand_code)"
   ]
  },
  {
   "cell_type": "code",
   "execution_count": 61,
   "metadata": {},
   "outputs": [
    {
     "data": {
      "text/plain": [
       "[('统计数据', 0.6756981611251831),\n",
       " ('监测数据', 0.6499429941177368),\n",
       " ('统计', 0.6150149703025818),\n",
       " ('显示', 0.6019054055213928),\n",
       " ('QuestMobile12', 0.5957983136177063),\n",
       " ('数据\\n', 0.5951352715492249),\n",
       " ('数据分析', 0.5900005102157593),\n",
       " ('Steamchart', 0.5885418653488159),\n",
       " ('统计分析', 0.5799739360809326),\n",
       " ('EuromonitorPassport', 0.5785661339759827)]"
      ]
     },
     "execution_count": 61,
     "metadata": {},
     "output_type": "execute_result"
    }
   ],
   "source": [
    "model.wv.most_similar('数据')"
   ]
  },
  {
   "cell_type": "code",
   "execution_count": 76,
   "metadata": {},
   "outputs": [
    {
     "data": {
      "text/plain": [
       "[('BRAND0639', 0.6612188816070557),\n",
       " ('海尔', 0.6589727401733398),\n",
       " ('BRAND0568', 0.6471309661865234),\n",
       " ('BRAND0504', 0.646100640296936),\n",
       " ('BRAND0659', 0.6008962392807007),\n",
       " ('BRAND0159', 0.5639421939849854),\n",
       " ('IMMERGAS', 0.5636752247810364),\n",
       " ('RFC125MXSAVA', 0.5611526966094971),\n",
       " ('热水器', 0.5591015815734863),\n",
       " ('BRAND0602', 0.5570681095123291)]"
      ]
     },
     "execution_count": 76,
     "metadata": {},
     "output_type": "execute_result"
    }
   ],
   "source": [
    "model.wv.most_similar(brand_code_2['海尔'])"
   ]
  },
  {
   "cell_type": "code",
   "execution_count": 80,
   "metadata": {},
   "outputs": [
    {
     "name": "stderr",
     "output_type": "stream",
     "text": [
      "/home/anaconda3/lib/python3.7/site-packages/ipykernel_launcher.py:1: DeprecationWarning: Call to deprecated `similarity` (Method will be removed in 4.0.0, use self.wv.similarity() instead).\n",
      "  \"\"\"Entry point for launching an IPython kernel.\n"
     ]
    },
    {
     "data": {
      "text/plain": [
       "0.4637472"
      ]
     },
     "execution_count": 80,
     "metadata": {},
     "output_type": "execute_result"
    }
   ],
   "source": [
    "model.similarity(brand_code_2['海尔'], '西门子')"
   ]
  },
  {
   "cell_type": "code",
   "execution_count": 70,
   "metadata": {},
   "outputs": [
    {
     "data": {
      "text/plain": [
       "'BRAND0168'"
      ]
     },
     "execution_count": 70,
     "metadata": {},
     "output_type": "execute_result"
    }
   ],
   "source": [
    "brand_code_2['百度']"
   ]
  },
  {
   "cell_type": "code",
   "execution_count": 79,
   "metadata": {},
   "outputs": [
    {
     "data": {
      "text/plain": [
       "'澳柯玛'"
      ]
     },
     "execution_count": 79,
     "metadata": {},
     "output_type": "execute_result"
    }
   ],
   "source": [
    "brand_code['BRAND0504']"
   ]
  },
  {
   "cell_type": "code",
   "execution_count": 38,
   "metadata": {},
   "outputs": [
    {
     "data": {
      "text/plain": [
       "'。'"
      ]
     },
     "execution_count": 38,
     "metadata": {},
     "output_type": "execute_result"
    }
   ],
   "source": [
    "chr(12290)"
   ]
  },
  {
   "cell_type": "code",
   "execution_count": 39,
   "metadata": {},
   "outputs": [
    {
     "data": {
      "text/plain": [
       "65281"
      ]
     },
     "execution_count": 39,
     "metadata": {},
     "output_type": "execute_result"
    }
   ],
   "source": [
    "ord('！')"
   ]
  },
  {
   "cell_type": "code",
   "execution_count": null,
   "metadata": {},
   "outputs": [],
   "source": []
  }
 ],
 "metadata": {
  "kernelspec": {
   "display_name": "anaconda(py3.7)",
   "language": "python",
   "name": "anaconda"
  },
  "language_info": {
   "codemirror_mode": {
    "name": "ipython",
    "version": 3
   },
   "file_extension": ".py",
   "mimetype": "text/x-python",
   "name": "python",
   "nbconvert_exporter": "python",
   "pygments_lexer": "ipython3",
   "version": "3.7.7"
  }
 },
 "nbformat": 4,
 "nbformat_minor": 2
}
